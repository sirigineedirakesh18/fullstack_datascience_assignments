{
 "cells": [
  {
   "cell_type": "markdown",
   "id": "3e177b7b",
   "metadata": {},
   "source": [
    "# Module 3: Data Structures Assignments\n",
    "## Lesson 3.1: Lists\n",
    "### Assignment 1: Creating and Accessing Lists\n",
    "\n",
    "Create a list of the first 20 positive integers. Print the list.\n",
    "\n",
    "\n",
    "\n",
    "### Assignment 2: Accessing List Elements\n",
    "\n",
    "Print the first, middle, and last elements of the list created in Assignment 1.\n",
    "\n",
    "### Assignment 3: List Slicing\n",
    "\n",
    "Print the first five elements, the last five elements, and the elements from index 5 to 15 of the list created in Assignment 1.\n",
    "\n",
    "### Assignment 4: List Comprehensions\n",
    "\n",
    "Create a new list containing the squares of the first 10 positive integers using a list comprehension. Print the new list.\n",
    "\n",
    "### Assignment 5: Filtering Lists\n",
    "\n",
    "Create a new list containing only the even numbers from the list created in Assignment 1 using a list comprehension. Print the new list.\n",
    "\n",
    "### Assignment 6: List Methods\n",
    "\n",
    "Create a list of random numbers and sort it in ascending and descending order. Remove the duplicates from the list and print the modified list.\n",
    "\n",
    "### Assignment 7: Nested Lists\n",
    "\n",
    "Create a nested list representing a 3x3 matrix and print the matrix. Access and print the element at the second row and third column.\n",
    "\n",
    "### Assignment 8: List of Dictionaries\n",
    "\n",
    "Create a list of dictionaries where each dictionary represents a student with keys 'name' and 'score'. Sort the list of dictionaries by the 'score' in descending order and print the sorted list.\n",
    "\n",
    "### Assignment 9: Matrix Transposition\n",
    "\n",
    "Write a function that takes a 3x3 matrix (nested list) as input and returns its transpose. Print the original and transposed matrices.\n",
    "\n",
    "### Assignment 10: Flattening a Nested List\n",
    "\n",
    "Write a function that takes a nested list and flattens it into a single list. Print the original and flattened lists.\n",
    "\n",
    "### Assignment 11: List Manipulation\n",
    "\n",
    "Create a list of the first 10 positive integers. Remove the elements at indices 2, 4, and 6, and insert the element '99' at index 5. Print the modified list.\n",
    "\n",
    "### Assignment 12: List Zipping\n",
    "\n",
    "Create two lists of the same length. Use the `zip` function to combine these lists into a list of tuples and print the result.\n",
    "\n",
    "### Assignment 13: List Reversal\n",
    "\n",
    "Write a function that takes a list and returns a new list with the elements in reverse order. Print the original and reversed lists.\n",
    "\n",
    "### Assignment 14: List Rotation\n",
    "\n",
    "Write a function that rotates a list by n positions. Print the original and rotated lists.\n",
    "\n",
    "### Assignment 15: List Intersection\n",
    "\n",
    "Write a function that takes two lists and returns a new list containing only the elements that are present in both lists. Print the intersected list."
   ]
  },
  {
   "cell_type": "code",
   "execution_count": 20,
   "id": "9d4c77c2",
   "metadata": {},
   "outputs": [
    {
     "name": "stdout",
     "output_type": "stream",
     "text": [
      "[1, 2, 3, 4, 5, 6, 7, 8, 9, 10, 11, 12, 13, 14, 15, 16, 17, 18, 19, 20]\n"
     ]
    }
   ],
   "source": [
    "#Create a list of the first 20 positive integers. Print the list.\n",
    "a=list(range(1,21))\n",
    "print(a)"
   ]
  },
  {
   "cell_type": "code",
   "execution_count": 21,
   "id": "88286164",
   "metadata": {},
   "outputs": [
    {
     "name": "stdout",
     "output_type": "stream",
     "text": [
      "1 11 20\n"
     ]
    }
   ],
   "source": [
    "#\n",
    "### Assignment 2: Accessing List Elements print the first, middle, and last elements of the list created in Assignment 1.\n",
    "\n",
    "print(a[0],a[len(a)//2],a[-1])"
   ]
  },
  {
   "cell_type": "code",
   "execution_count": 22,
   "id": "d5675a60",
   "metadata": {},
   "outputs": [
    {
     "name": "stdout",
     "output_type": "stream",
     "text": [
      "[1, 2, 3, 4, 5] [16, 17, 18, 19, 20] [6, 7, 8, 9, 10, 11, 12, 13, 14, 15, 16]\n"
     ]
    }
   ],
   "source": [
    "#Print the first five elements, the last five elements, and the elements from index 5 to 15 of the list created in Assignment 1.\n",
    "print(a[0:5:1],a[-5::1],a[5:16])"
   ]
  },
  {
   "cell_type": "code",
   "execution_count": 25,
   "id": "568f97bf",
   "metadata": {},
   "outputs": [
    {
     "name": "stdout",
     "output_type": "stream",
     "text": [
      "[1, 4, 9, 16, 25, 36, 49, 64, 81, 100]\n",
      "[2, 4, 6, 8, 10, 12, 14, 16, 18, 20]\n"
     ]
    }
   ],
   "source": [
    "#Create a new list containing the squares of the first 10 positive integers using a list comprehension. Print the new list.\n",
    "print([i**2 for i in range (1,11)])\n",
    "print([i for i in a if i%2==0])"
   ]
  },
  {
   "cell_type": "code",
   "execution_count": 33,
   "id": "5473219b",
   "metadata": {},
   "outputs": [
    {
     "name": "stdout",
     "output_type": "stream",
     "text": [
      "[44, 8, 38, 39, 88, 42, 1, 41, 78, 77, 90, 96, 62, 87, 74]\n",
      "[96, 90, 88, 87, 78, 77, 74, 62, 44, 42, 41, 39, 38, 8, 1]\n",
      "[1, 8, 38, 39, 41, 42, 44, 62, 74, 77, 78, 87, 88, 90, 96]\n",
      "[96, 1, 38, 39, 8, 41, 42, 74, 44, 77, 78, 87, 88, 90, 62]\n"
     ]
    }
   ],
   "source": [
    "#Create a list of random numbers and sort it in ascending and descending order. Remove the duplicates from the list and print the modified list.\n",
    "import random\n",
    "randomlist=[random.randint(0,100) for i in range(15)]\n",
    "print(randomlist)\n",
    "l1=sorted(randomlist,reverse=True)\n",
    "l2=sorted(randomlist)\n",
    "print(l1)\n",
    "print(l2)\n",
    "print(list(set(randomlist)))"
   ]
  },
  {
   "cell_type": "code",
   "execution_count": 34,
   "id": "17d41fbe",
   "metadata": {},
   "outputs": [
    {
     "name": "stdout",
     "output_type": "stream",
     "text": [
      "6\n"
     ]
    }
   ],
   "source": [
    "#Create a nested list representing a 3x3 matrix and print the matrix. Access and print the element at the second row and third column.\n",
    "matrix=[[1,2,3],[4,5,6],[7,8,9]]\n",
    "print(matrix[1][2])"
   ]
  },
  {
   "cell_type": "code",
   "execution_count": 53,
   "id": "03dff7c5",
   "metadata": {},
   "outputs": [
    {
     "name": "stdout",
     "output_type": "stream",
     "text": [
      "[{'name': 'Bob', 'score': 90}, {'name': 'Charlie', 'score': 85}, {'name': 'Alice', 'score': 80}]\n"
     ]
    }
   ],
   "source": [
    "#Create a list of dictionaries where each dictionary represents a student with keys 'name' and 'score'.\n",
    "# Sort the list of dictionaries by the 'score' in descending order and print the sorted list.\n",
    "students=[{'name':'Alice','score':80},{'name':'Bob','score':90},{'name':'Charlie','score':85}]\n",
    "sorted_std=sorted(students,key= lambda x:x['score'], reverse=True)\n",
    "print(sorted_std)\n",
    "\n"
   ]
  },
  {
   "cell_type": "code",
   "execution_count": 77,
   "id": "55e5fcfd",
   "metadata": {},
   "outputs": [
    {
     "name": "stdout",
     "output_type": "stream",
     "text": [
      "[{'name': 'Bob', 'score': 90}, {'name': 'Charlie', 'score': 85}, {'name': 'Alice', 'score': 80}]\n"
     ]
    }
   ],
   "source": [
    "\n",
    "for i in range(len(students)):\n",
    "  for j in range(1,len(students)):\n",
    "    if students[j- 1]['score']< students[j]['score']:\n",
    "      students[j-1],students[j]=students[j],students[j-1]\n",
    "print(students)"
   ]
  },
  {
   "cell_type": "code",
   "execution_count": 82,
   "id": "db888007",
   "metadata": {},
   "outputs": [
    {
     "name": "stdout",
     "output_type": "stream",
     "text": [
      "[[1, 4, 7], [2, 5, 8], [3, 6, 9]]\n"
     ]
    }
   ],
   "source": [
    "#Write a function that takes a 3x3 matrix (nested list) as input and returns its transpose. Print the original and transposed matrices.\n",
    "a=[[1,2,3],\n",
    "   [4,5,6],\n",
    "   [7,8,9]]\n",
    "print([[a[j][i] for j in range(3)] for i in range(3)])"
   ]
  },
  {
   "cell_type": "code",
   "execution_count": 96,
   "id": "79b1efef",
   "metadata": {},
   "outputs": [
    {
     "name": "stdout",
     "output_type": "stream",
     "text": [
      "[1, 2, 3, 4, 5, 6, 7, 8, 9]\n"
     ]
    }
   ],
   "source": [
    "#Write a function that takes a nested list and flattens it into a single list. Print the original and flattened lists.\n",
    "l=[]\n",
    "for i in a:\n",
    "  for j in i:\n",
    "    l.append(j)\n",
    "print(l)"
   ]
  },
  {
   "cell_type": "code",
   "execution_count": 94,
   "id": "b1db7c63",
   "metadata": {},
   "outputs": [
    {
     "name": "stdout",
     "output_type": "stream",
     "text": [
      "[1, 2, 3, 4, 5, 6, 7, 8, 9]\n"
     ]
    }
   ],
   "source": [
    "print([j for i in a for j in i])"
   ]
  },
  {
   "cell_type": "code",
   "execution_count": 98,
   "id": "b8f62bd1",
   "metadata": {},
   "outputs": [
    {
     "name": "stdout",
     "output_type": "stream",
     "text": [
      "[(1, 5), (2, 6), (3, 7), (4, 8)]\n"
     ]
    }
   ],
   "source": [
    "#Create two lists of the same length. Use the `zip` function to combine these lists into a list of tuples and print the result.\n",
    "l1=[1,2,3,4]\n",
    "l2=[5,6,7,8]\n",
    "zip_list=list(zip(l1,l2))\n",
    "print(zip_list)"
   ]
  },
  {
   "cell_type": "code",
   "execution_count": 99,
   "id": "24b9a3a8",
   "metadata": {},
   "outputs": [
    {
     "name": "stdout",
     "output_type": "stream",
     "text": [
      "[4, 3, 2, 1]\n"
     ]
    }
   ],
   "source": [
    "print(l1[::-1])"
   ]
  },
  {
   "cell_type": "code",
   "execution_count": 103,
   "id": "49dd996d",
   "metadata": {},
   "outputs": [
    {
     "data": {
      "text/plain": [
       "[4, 5, 6, 7, 8, 9, 10, 1, 2, 3]"
      ]
     },
     "execution_count": 103,
     "metadata": {},
     "output_type": "execute_result"
    }
   ],
   "source": [
    "def rotatelist(l1,n):\n",
    "    return l1[n::]+l1[:n:]\n",
    "\n",
    "rotatelist([1,2,3,4,5,6,7,8,9,10],3)"
   ]
  },
  {
   "cell_type": "code",
   "execution_count": 104,
   "id": "51c34826",
   "metadata": {},
   "outputs": [],
   "source": [
    "#Write a function that takes two lists and returns a new list \n",
    "# containing only the elements that are present in both lists. Print the intersected list.\n",
    "def intersect(l1,l2):\n",
    "    return list(set(l1)&set(l2))"
   ]
  },
  {
   "cell_type": "code",
   "execution_count": 122,
   "id": "d49cd379",
   "metadata": {},
   "outputs": [
    {
     "data": {
      "text/plain": [
       "[1, 2, 5, 6, 7, 99, 8, 88]"
      ]
     },
     "execution_count": 122,
     "metadata": {},
     "output_type": "execute_result"
    }
   ],
   "source": [
    "#Create a list of the first 10 positive integers. \n",
    "# Remove the elements at indices 2, 4, and 6, and insert the element '99' at index 5.\n",
    "#  Print the modified list.\n",
    "lister=list(range(1,10))\n",
    "lister.pop(2)\n",
    "lister.remove(4)\n",
    "lister.pop(6)\n",
    "lister.insert(5,99)\n",
    "lister.insert(10,88)\n",
    "lister"
   ]
  }
 ],
 "metadata": {
  "kernelspec": {
   "display_name": "Python 3",
   "language": "python",
   "name": "python3"
  },
  "language_info": {
   "codemirror_mode": {
    "name": "ipython",
    "version": 3
   },
   "file_extension": ".py",
   "mimetype": "text/x-python",
   "name": "python",
   "nbconvert_exporter": "python",
   "pygments_lexer": "ipython3",
   "version": "3.13.1"
  }
 },
 "nbformat": 4,
 "nbformat_minor": 5
}
