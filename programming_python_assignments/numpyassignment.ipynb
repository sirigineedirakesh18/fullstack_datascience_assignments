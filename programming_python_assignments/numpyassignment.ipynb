{
 "cells": [
  {
   "cell_type": "code",
   "execution_count": 90,
   "metadata": {},
   "outputs": [],
   "source": [
    "#Create a NumPy array from a Python list [5, 10, 15, 20, 25] and print its type.\n",
    "import numpy as np\n",
    "l=[5, 10, 15, 20, 25]\n",
    "arr= np.array(l)\n",
    "arr\n",
    "#or\n",
    "arr=np.asarray(l)\n",
    "arr=np.asanyarray(l)\n"
   ]
  },
  {
   "cell_type": "code",
   "execution_count": 23,
   "metadata": {},
   "outputs": [
    {
     "data": {
      "text/plain": [
       "array([28, 58, 57, 71, 93, 62, 83, 60, 80, 44], dtype=int32)"
      ]
     },
     "execution_count": 23,
     "metadata": {},
     "output_type": "execute_result"
    }
   ],
   "source": [
    "#Generate an array of 10 random integers between 1 and 100 using NumPy.\n",
    "import random\n",
    "arr=np.random.randint(1,100 ,size=10)\n",
    "arr"
   ]
  },
  {
   "cell_type": "code",
   "execution_count": 31,
   "metadata": {},
   "outputs": [
    {
     "data": {
      "text/plain": [
       "array([ 0,  5, 10, 15, 20, 25, 30, 35, 40, 45])"
      ]
     },
     "execution_count": 31,
     "metadata": {},
     "output_type": "execute_result"
    }
   ],
   "source": [
    "#Create a 1D array of numbers from 0 to 50 with a step size of 5.\n",
    "arr1=np.arange(0,50,5)\n",
    "arr1"
   ]
  },
  {
   "cell_type": "code",
   "execution_count": 39,
   "metadata": {},
   "outputs": [
    {
     "data": {
      "text/plain": [
       "2"
      ]
     },
     "execution_count": 39,
     "metadata": {},
     "output_type": "execute_result"
    }
   ],
   "source": [
    "#Create a 3×3 identity matrix using NumPy\n",
    "arr2=np.eye(3,3)\n",
    "arr2.ndim"
   ]
  },
  {
   "cell_type": "code",
   "execution_count": 59,
   "metadata": {},
   "outputs": [
    {
     "data": {
      "text/plain": [
       "array([[0.01371131, 0.0193334 , 0.03961551, 0.76481209],\n",
       "       [0.04967091, 0.23117724, 0.91558569, 0.35321547],\n",
       "       [0.22624705, 0.18485256, 0.70167134, 0.72510661],\n",
       "       [0.55268569, 0.37529617, 0.97382167, 0.6707937 ]])"
      ]
     },
     "execution_count": 59,
     "metadata": {},
     "output_type": "execute_result"
    }
   ],
   "source": [
    "#Create a NumPy array of shape (4,4) filled with random floating-point numbers between 0 and 1.\n",
    "import numpy as np\n",
    "import random\n",
    "arr3= np.random.rand(16).reshape(4,4)\n",
    "arr3"
   ]
  },
  {
   "cell_type": "code",
   "execution_count": 72,
   "metadata": {},
   "outputs": [],
   "source": [
    "#Generate an array of 20 zeros and another of 20 ones.\n",
    "arr4=np.zeros(20)\n",
    "arr5=np.ones(20)"
   ]
  },
  {
   "cell_type": "code",
   "execution_count": 78,
   "metadata": {},
   "outputs": [
    {
     "data": {
      "text/plain": [
       "array([ 1,  2,  3,  4, 18,  6,  7,  8,  9, 10])"
      ]
     },
     "execution_count": 78,
     "metadata": {},
     "output_type": "execute_result"
    }
   ],
   "source": [
    "#Create an array of 10 elements and set the fifth element to 99.\n",
    "arr=np.array([1,2,3,4,5,6,7,8,9,10])\n",
    "arr[4]=18\n",
    "arr\n"
   ]
  },
  {
   "cell_type": "code",
   "execution_count": 79,
   "metadata": {},
   "outputs": [
    {
     "data": {
      "text/plain": [
       "array([[1, 2],\n",
       "       [3, 4],\n",
       "       [5, 6]])"
      ]
     },
     "execution_count": 79,
     "metadata": {},
     "output_type": "execute_result"
    }
   ],
   "source": [
    "#Reshape the given 1D array into a 2D array with shape (3, 2):\n",
    "arr = np.array([1, 2, 3, 4, 5, 6])\n",
    "arr.reshape(3,2)\n",
    "arr"
   ]
  },
  {
   "cell_type": "code",
   "execution_count": 87,
   "metadata": {},
   "outputs": [
    {
     "name": "stdout",
     "output_type": "stream",
     "text": [
      "[10 20 30 40 50 60]\n",
      "[10 20 30 40 50 60]\n"
     ]
    }
   ],
   "source": [
    "arr = np.array([[10, 20, 30], [40, 50, 60]])\n",
    "#flatten the array\n",
    "print(arr.reshape(6,))\n",
    "#or we can\n",
    "print(arr.flatten())"
   ]
  },
  {
   "cell_type": "code",
   "execution_count": 93,
   "metadata": {},
   "outputs": [
    {
     "name": "stdout",
     "output_type": "stream",
     "text": [
      "[1 2 3 4 5 6]\n",
      "[[1 2 3]\n",
      " [4 5 6]]\n"
     ]
    }
   ],
   "source": [
    "#Stack two arrays horizontally and vertically.\n",
    "a1=np.array([1,2,3])\n",
    "a2=np.array([4,5,6])\n",
    "st1= np.hstack((a1,a2))\n",
    "st2= np.vstack((a1,a2))\n",
    "print(st1)\n",
    "print(st2)"
   ]
  },
  {
   "cell_type": "code",
   "execution_count": 106,
   "metadata": {},
   "outputs": [
    {
     "name": "stdout",
     "output_type": "stream",
     "text": [
      "[10 20]\n",
      "[30 40]\n",
      "[50 60]\n",
      "[70 80]\n",
      "[array([10, 20]), array([30, 40]), array([50, 60]), array([70, 80])]\n"
     ]
    }
   ],
   "source": [
    "#Split the given NumPy array into four equal parts.\n",
    "arr1=np.array([10, 20, 30, 40, 50, 60, 70, 80])\n",
    "print(arr1[0:int(len(arr1)/4)])\n",
    "print(arr1[int(len(arr1)/4):int(len(arr1)/2)])\n",
    "print(arr1[int(len(arr1)/2):3*int(len(arr1)/4)])\n",
    "print(arr1[3*int(len(arr1)/4):len(arr1)])\n",
    "#or\n",
    "print(np.split(arr1,4))"
   ]
  },
  {
   "cell_type": "code",
   "execution_count": 112,
   "metadata": {},
   "outputs": [
    {
     "data": {
      "text/plain": [
       "array([55, 67, 89])"
      ]
     },
     "execution_count": 112,
     "metadata": {},
     "output_type": "execute_result"
    }
   ],
   "source": [
    "#Extract all numbers greater than 50 from the array.\n",
    "arr = np.array([12, 55, 23, 67, 45, 89, 34])\n",
    "arr[arr>50]"
   ]
  },
  {
   "cell_type": "code",
   "execution_count": 122,
   "metadata": {},
   "outputs": [],
   "source": [
    "#13. Replace all even numbers in an array with -1.\n",
    "arr = np.array([10, 15, 22, 35, 40, 55])\n",
    "arr[arr%2==0]=-1\n",
    "arr\n",
    "#or\n",
    "result = np.where(arr % 2 == 0, -1, arr)"
   ]
  },
  {
   "cell_type": "code",
   "execution_count": 123,
   "metadata": {},
   "outputs": [
    {
     "data": {
      "text/plain": [
       "array([6, 5, 4, 3, 2, 1])"
      ]
     },
     "execution_count": 123,
     "metadata": {},
     "output_type": "execute_result"
    }
   ],
   "source": [
    "###14. Reverse the order of elements in a NumPy array.\n",
    "arr = np.array([1, 2, 3, 4, 5, 6])\n",
    "arr[::-1]\n"
   ]
  },
  {
   "cell_type": "code",
   "execution_count": 127,
   "metadata": {},
   "outputs": [
    {
     "name": "stdout",
     "output_type": "stream",
     "text": [
      "250 50 137.5\n"
     ]
    }
   ],
   "source": [
    "#Find the maximum, minimum, and mean of the given array:\n",
    "arr = np.array([100, 200, 50, 75, 150, 250])\n",
    "print(np.max(arr),np.min(arr),np.mean(arr))"
   ]
  },
  {
   "cell_type": "code",
   "execution_count": 129,
   "metadata": {},
   "outputs": [
    {
     "name": "stdout",
     "output_type": "stream",
     "text": [
      "[60 75 90]\n",
      "[ 30  75 120]\n"
     ]
    }
   ],
   "source": [
    "#Compute the sum of all rows and columns of the given matrix:\n",
    "matrix = np.array([[5, 10, 15], [20, 25, 30], [35, 40, 45]])\n",
    "print(np.sum(matrix,axis=0))\n",
    "print(np.sum(matrix,axis=1))\n"
   ]
  },
  {
   "cell_type": "code",
   "execution_count": 132,
   "metadata": {},
   "outputs": [
    {
     "name": "stdout",
     "output_type": "stream",
     "text": [
      "[[19 22]\n",
      " [43 50]]\n"
     ]
    }
   ],
   "source": [
    "#17. Find the dot product of two matrices.\n",
    "a=np.array([[1, 2], [3, 4]]) \n",
    "b=np.array([[5, 6], [7, 8]])\n",
    "print(a@b)\n",
    "\n",
    "\n"
   ]
  },
  {
   "cell_type": "code",
   "execution_count": 133,
   "metadata": {},
   "outputs": [
    {
     "name": "stdout",
     "output_type": "stream",
     "text": [
      "[ 2 12 30]\n"
     ]
    }
   ],
   "source": [
    "#Perform element-wise multiplication between two NumPy arrays\n",
    "a = np.array([1, 3, 5])\n",
    "b = np.array([2, 4, 6])\n",
    "print(a*b)"
   ]
  },
  {
   "cell_type": "code",
   "execution_count": 156,
   "metadata": {},
   "outputs": [
    {
     "name": "stdout",
     "output_type": "stream",
     "text": [
      "[ 1  3  7  9 12 15]\n",
      "[15 12  9  7  3  1] <class 'numpy.ndarray'>\n"
     ]
    }
   ],
   "source": [
    "# Sort an array in ascending and descending order.\n",
    "arr=np.array([15, 3, 9, 1, 7, 12])\n",
    "print(np.sort(arr))\n",
    "print(np.sort(arr)[::-1],type(np.sort(arr)[::-1]))\n",
    "#np.sort will return numpy class and sorted will return list classv\n"
   ]
  },
  {
   "cell_type": "code",
   "execution_count": 163,
   "metadata": {},
   "outputs": [
    {
     "name": "stdout",
     "output_type": "stream",
     "text": [
      "20.0\n",
      "400.0\n"
     ]
    }
   ],
   "source": [
    "#find std and variance\n",
    "data = np.array([10, 20, 30, 40, 50, 60, 70])\n",
    "print(np.std(data,dtype=float))\n",
    "print(np.var(data,dtype=float))"
   ]
  }
 ],
 "metadata": {
  "kernelspec": {
   "display_name": "Python 3",
   "language": "python",
   "name": "python3"
  },
  "language_info": {
   "codemirror_mode": {
    "name": "ipython",
    "version": 3
   },
   "file_extension": ".py",
   "mimetype": "text/x-python",
   "name": "python",
   "nbconvert_exporter": "python",
   "pygments_lexer": "ipython3",
   "version": "3.13.1"
  }
 },
 "nbformat": 4,
 "nbformat_minor": 2
}
