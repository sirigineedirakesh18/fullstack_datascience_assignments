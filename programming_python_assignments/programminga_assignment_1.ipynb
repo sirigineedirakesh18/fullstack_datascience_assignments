{
 "cells": [
  {
   "cell_type": "markdown",
   "id": "d14702e8",
   "metadata": {},
   "source": [
    "1. Write a Python program to print \"Hello Python\"?"
   ]
  },
  {
   "cell_type": "code",
   "execution_count": 4,
   "id": "651e0178",
   "metadata": {},
   "outputs": [
    {
     "name": "stdout",
     "output_type": "stream",
     "text": [
      "Hello Python\n"
     ]
    }
   ],
   "source": [
    "print(\"Hello Python\")"
   ]
  },
  {
   "cell_type": "markdown",
   "id": "4962d3f4",
   "metadata": {},
   "source": [
    "2. Write a Python program to do arithmetical operations addition and division.?"
   ]
  },
  {
   "cell_type": "code",
   "execution_count": 6,
   "id": "4156b00f",
   "metadata": {},
   "outputs": [
    {
     "name": "stdout",
     "output_type": "stream",
     "text": [
      "A:4\n",
      "B:2\n",
      "6 2.0\n"
     ]
    }
   ],
   "source": [
    "a=int(input(\"A:\"))\n",
    "b=int(input(\"B:\"))\n",
    "print(a+b,a/b)"
   ]
  },
  {
   "cell_type": "markdown",
   "id": "7b2afbd4",
   "metadata": {},
   "source": [
    "3. Write a Python program to find the area of a triangle?"
   ]
  },
  {
   "cell_type": "code",
   "execution_count": 8,
   "id": "7abe17ad",
   "metadata": {},
   "outputs": [
    {
     "name": "stdout",
     "output_type": "stream",
     "text": [
      "B:4\n",
      "H:2\n",
      "area of triangle is :  4.0\n"
     ]
    }
   ],
   "source": [
    "b=int(input(\"B:\"))\n",
    "h=int(input(\"H:\"))\n",
    "print(\"area of triangle is : \",0.5*b*h)"
   ]
  },
  {
   "cell_type": "markdown",
   "id": "4b057e31",
   "metadata": {},
   "source": [
    "4. Write a Python program to swap two variables?"
   ]
  },
  {
   "cell_type": "code",
   "execution_count": 9,
   "id": "d1e8c314",
   "metadata": {},
   "outputs": [
    {
     "name": "stdout",
     "output_type": "stream",
     "text": [
      "B:3\n",
      "H:4\n",
      "4 3\n"
     ]
    }
   ],
   "source": [
    "b=int(input(\"B:\"))\n",
    "h=int(input(\"H:\"))\n",
    "b,h=h,b\n",
    "print(b,h)"
   ]
  },
  {
   "cell_type": "markdown",
   "id": "e95f40a2",
   "metadata": {},
   "source": [
    "5. Write a Python program to generate a random number?"
   ]
  },
  {
   "cell_type": "code",
   "execution_count": 16,
   "id": "6deb6695",
   "metadata": {},
   "outputs": [
    {
     "name": "stdout",
     "output_type": "stream",
     "text": [
      "91\n"
     ]
    }
   ],
   "source": [
    "import random\n",
    "a=random.randint(5,100)\n",
    "print(a)"
   ]
  },
  {
   "cell_type": "code",
   "execution_count": null,
   "id": "411dbc68",
   "metadata": {},
   "outputs": [],
   "source": []
  },
  {
   "cell_type": "code",
   "execution_count": null,
   "id": "d43b1f5e",
   "metadata": {},
   "outputs": [],
   "source": []
  }
 ],
 "metadata": {
  "kernelspec": {
   "display_name": "Python 3 (ipykernel)",
   "language": "python",
   "name": "python3"
  },
  "language_info": {
   "codemirror_mode": {
    "name": "ipython",
    "version": 3
   },
   "file_extension": ".py",
   "mimetype": "text/x-python",
   "name": "python",
   "nbconvert_exporter": "python",
   "pygments_lexer": "ipython3",
   "version": "3.11.5"
  }
 },
 "nbformat": 4,
 "nbformat_minor": 5
}
