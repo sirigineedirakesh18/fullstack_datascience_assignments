{
 "cells": [
  {
   "cell_type": "markdown",
   "id": "b3057929",
   "metadata": {},
   "source": [
    "# Module 5: Modules and Packages Assignments\n",
    "## Lesson 5.1: Importing Modules\n",
    "### Assignment 1: Importing and Using Modules\n",
    "\n",
    "Import the `math` module and use it to calculate the square root of 25 and the sine of 90 degrees.\n",
    "\n",
    "### Assignment 2: Aliasing Modules\n",
    "\n",
    "Import the `datetime` module with an alias and use it to print the current date and time.\n",
    "\n",
    "### Assignment 3: Importing Specific Functions\n",
    "\n",
    "Import the `randint` function from the `random` module and use it to generate a random integer between 1 and 100.\n",
    "\n",
    "### Assignment 4: Importing Multiple Functions\n",
    "\n",
    "Import the `sqrt` and `pow` functions from the `math` module and use them to calculate the square root of 16 and 2 raised to the power of 3.\n",
    "\n",
    "### Assignment 5: Handling Import Errors\n",
    "\n",
    "Write code that attempts to import a non-existent module and gracefully handles the import error by printing an error message.\n",
    "\n",
    "## Lesson 5.2: Standard Library Overview\n",
    "### Assignment 6: Working with the `os` Module\n",
    "\n",
    "Use the `os` module to create a new directory, list the contents of the current directory, and remove the newly created directory.\n",
    "\n",
    "### Assignment 7: Working with the `sys` Module\n",
    "\n",
    "Use the `sys` module to print the Python version currently in use and the command-line arguments passed to the script.\n",
    "\n",
    "### Assignment 8: Working with the `math` Module\n",
    "\n",
    "Use the `math` module to calculate the greatest common divisor (GCD) of two numbers and the factorial of a number.\n",
    "\n",
    "### Assignment 9: Working with the `datetime` Module\n",
    "\n",
    "Use the `datetime` module to print the current date, calculate the date 100 days from today, and determine the day of the week for a given date.\n",
    "\n",
    "### Assignment 10: Working with the `random` Module\n",
    "\n",
    "Use the `random` module to generate a list of 5 random numbers between 1 and 50 and shuffle the elements of a list.\n",
    "\n",
    "## Lesson 5.3: Creating and Using Packages\n",
    "### Assignment 11: Creating a Simple Package\n",
    "\n",
    "Create a package named `mypackage` with two modules: `module1` and `module2`. `module1` should contain a function that adds two numbers, and `module2` should contain a function that multiplies two numbers. Write code to use these functions.\n",
    "\n",
    "### Assignment 12: Using `__init__.py`\n",
    "\n",
    "Modify the `mypackage` package to include an `__init__.py` file that imports the functions from `module1` and `module2`. Write code to use these functions.\n",
    "\n",
    "### Assignment 13: Importing from a Package\n",
    "\n",
    "Write code to import and use the functions from `mypackage` without explicitly importing `module1` and `module2`.\n",
    "\n",
    "### Assignment 14: Relative Imports\n",
    "\n",
    "Create a subpackage named `subpackage` within `mypackage` and move `module2` into `subpackage`. Modify the import statements in `__init__.py` to use relative imports. Write code to use the functions from both modules.\n",
    "\n",
    "### Assignment 15: Handling Package Import Errors\n",
    "\n",
    "Write code that attempts to import a non-existent function from `mypackage` and gracefully handles the import error by printing an error message."
   ]
  },
  {
   "cell_type": "code",
   "execution_count": 3,
   "id": "07ab792c",
   "metadata": {},
   "outputs": [
    {
     "name": "stdout",
     "output_type": "stream",
     "text": [
      "5.0 1.0\n"
     ]
    }
   ],
   "source": [
    "#Import the `math` module and use it to calculate the square root of 25 and the sine of 90 degrees.\n",
    "import math \n",
    "print(math.sqrt(25),math.sin(math.radians(90)))"
   ]
  },
  {
   "cell_type": "code",
   "execution_count": 12,
   "id": "bf0696ce",
   "metadata": {},
   "outputs": [
    {
     "name": "stdout",
     "output_type": "stream",
     "text": [
      "2025-01-08 22:50:06.866155\n"
     ]
    }
   ],
   "source": [
    "#Import the `datetime` module with an alias and use it to print the current date and time.\n",
    "import datetime as dt\n",
    "print(dt.datetime.today())"
   ]
  },
  {
   "cell_type": "code",
   "execution_count": 13,
   "id": "0ce1708e",
   "metadata": {},
   "outputs": [
    {
     "name": "stdout",
     "output_type": "stream",
     "text": [
      "63\n"
     ]
    }
   ],
   "source": [
    "#Import the `randint` function from the `random` module and use it to generate a random integer between 1 and 100.\n",
    "from random import randint\n",
    "print(randint(1,100))"
   ]
  },
  {
   "cell_type": "code",
   "execution_count": 14,
   "id": "424e8a68",
   "metadata": {},
   "outputs": [
    {
     "name": "stdout",
     "output_type": "stream",
     "text": [
      "4.0 8.0\n"
     ]
    }
   ],
   "source": [
    "#Import the `sqrt` and `pow` functions from the `math` module \n",
    "#  and use them to calculate the square root of 16 and 2 raised to the power of 3.\n",
    "from math import sqrt,pow\n",
    "print(sqrt(16),pow(2,3))"
   ]
  },
  {
   "cell_type": "code",
   "execution_count": 15,
   "id": "ef593709",
   "metadata": {},
   "outputs": [
    {
     "name": "stdout",
     "output_type": "stream",
     "text": [
      "Module not found\n"
     ]
    }
   ],
   "source": [
    "#Write code that attempts to import a non-existent module and gracefully handles the import error by printing an error message.\n",
    "try:\n",
    "    import non_existent_module\n",
    "except ImportError:\n",
    "    print(\"Module not found\")\n"
   ]
  },
  {
   "cell_type": "code",
   "execution_count": 16,
   "id": "27551f5e",
   "metadata": {},
   "outputs": [],
   "source": [
    "#Use the `os` module to create a new directory, list the contents of the current directory, and remove the newly created directory.\n",
    "import os\n",
    "os.mkdir(\"new_dir\")\n",
    "os.listdir()\n",
    "os.rmdir(\"new_dir\")"
   ]
  },
  {
   "cell_type": "code",
   "execution_count": 17,
   "id": "ed21237b",
   "metadata": {},
   "outputs": [
    {
     "name": "stdout",
     "output_type": "stream",
     "text": [
      "3.13.1 (tags/v3.13.1:0671451, Dec  3 2024, 19:06:28) [MSC v.1942 64 bit (AMD64)]\n",
      "['C:\\\\Users\\\\sirig\\\\AppData\\\\Roaming\\\\Python\\\\Python313\\\\site-packages\\\\ipykernel_launcher.py', '--f=c:\\\\Users\\\\sirig\\\\AppData\\\\Roaming\\\\jupyter\\\\runtime\\\\kernel-v3fa2cf8f1ac99e412f7ab09c3f6621b08eaec5b9e.json']\n"
     ]
    }
   ],
   "source": [
    "#Use the `sys` module to print the Python version currently in use and the command-line arguments passed to the script.\n",
    "import sys\n",
    "print(sys.version)\n",
    "print(sys.argv)\n",
    "\n"
   ]
  },
  {
   "cell_type": "code",
   "execution_count": 18,
   "id": "77c7ff6a",
   "metadata": {},
   "outputs": [
    {
     "name": "stdout",
     "output_type": "stream",
     "text": [
      "3\n",
      "120\n"
     ]
    }
   ],
   "source": [
    "#se the `math` module to calculate the greatest common divisor (GCD) of two numbers and the factorial of a number.\n",
    "import math\n",
    "print(math.gcd(12, 15))\n",
    "print(math.factorial(5))"
   ]
  },
  {
   "cell_type": "code",
   "execution_count": 20,
   "id": "319a108f",
   "metadata": {},
   "outputs": [
    {
     "name": "stdout",
     "output_type": "stream",
     "text": [
      "2025-01-08\n",
      "2025-04-18\n",
      "4\n"
     ]
    }
   ],
   "source": [
    "#Use the `datetime` module to print the current date, calculate the date 100 days from today,\n",
    "#  and determine the day of the week for a given date.\n",
    "import datetime as dt\n",
    "print(dt.date.today())\n",
    "print(dt.date.today()+dt.timedelta(days=100))\n",
    "print(dt.date(2021, 1, 1).weekday())"
   ]
  },
  {
   "cell_type": "code",
   "execution_count": 22,
   "id": "c74d753e",
   "metadata": {},
   "outputs": [
    {
     "name": "stdout",
     "output_type": "stream",
     "text": [
      "[9, 6, 22, 14, 23]\n"
     ]
    }
   ],
   "source": [
    "#Use the `random` module to generate a \n",
    "# list of 5 random numbers between 1 and 50 and shuffle the elements of a list.\n",
    "import random\n",
    "print([random.randint(1,50) for i in range(5)])"
   ]
  }
 ],
 "metadata": {
  "kernelspec": {
   "display_name": "Python 3",
   "language": "python",
   "name": "python3"
  },
  "language_info": {
   "codemirror_mode": {
    "name": "ipython",
    "version": 3
   },
   "file_extension": ".py",
   "mimetype": "text/x-python",
   "name": "python",
   "nbconvert_exporter": "python",
   "pygments_lexer": "ipython3",
   "version": "3.13.1"
  }
 },
 "nbformat": 4,
 "nbformat_minor": 5
}
