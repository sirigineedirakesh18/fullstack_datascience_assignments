{
 "cells": [
  {
   "cell_type": "markdown",
   "metadata": {},
   "source": [
    "# Module: Exception Handling Assignments\n",
    "## Lesson: Exception Handling with try, except, and finally\n",
    "### Assignment 1: Handling Division by Zero\n",
    "\n",
    "Write a function that takes two integers as input and returns their division. Use try, except, and finally blocks to handle division by zero and print an appropriate message.\n",
    "\n",
    "### Assignment 2: File Reading with Exception Handling\n",
    "\n",
    "Write a function that reads the contents of a file named `data.txt`. Use try, except, and finally blocks to handle file not found errors and ensure the file is properly closed.\n",
    "\n",
    "### Assignment 3: Handling Multiple Exceptions\n",
    "\n",
    "Write a function that takes a list of integers and returns their sum. Use try, except, and finally blocks to handle TypeError if a non-integer value is encountered and print an appropriate message.\n",
    "\n",
    "### Assignment 4: Exception Handling in User Input\n",
    "\n",
    "Write a function that prompts the user to enter an integer. Use try, except, and finally blocks to handle ValueError if the user enters a non-integer value and print an appropriate message.\n",
    "\n",
    "### Assignment 5: Exception Handling in Dictionary Access\n",
    "\n",
    "Write a function that takes a dictionary and a key as input and returns the value associated with the key. Use try, except, and finally blocks to handle KeyError if the key is not found in the dictionary and print an appropriate message.\n",
    "\n",
    "### Assignment 6: Nested Exception Handling\n",
    "\n",
    "Write a function that performs nested exception handling. It should first attempt to convert a string to an integer, and then attempt to divide by that integer. Use nested try, except, and finally blocks to handle ValueError and ZeroDivisionError and print appropriate messages.\n",
    "\n",
    "### Assignment 7: Exception Handling in List Operations\n",
    "\n",
    "Write a function that takes a list and an index as input and returns the element at the given index. Use try, except, and finally blocks to handle IndexError if the index is out of range and print an appropriate message.\n",
    "\n",
    "### Assignment 8: Exception Handling in Network Operations\n",
    "\n",
    "Write a function that attempts to open a URL and read its contents. Use try, except, and finally blocks to handle network-related errors and print an appropriate message.\n",
    "\n",
    "### Assignment 9: Exception Handling in JSON Parsing\n",
    "\n",
    "Write a function that attempts to parse a JSON string. Use try, except, and finally blocks to handle JSONDecodeError if the string is not a valid JSON and print an appropriate message.\n",
    "\n",
    "### Assignment 10: Custom Exception Handling\n",
    "\n",
    "Define a custom exception named `NegativeNumberError`. Write a function that raises this exception if a negative number is encountered in a list. Use try, except, and finally blocks to handle the custom exception and print an appropriate message.\n",
    "\n",
    "### Assignment 11: Exception Handling in Function Calls\n",
    "\n",
    "Write a function that calls another function which may raise an exception. Use try, except, and finally blocks to handle the exception and print an appropriate message.\n",
    "\n",
    "### Assignment 12: Exception Handling in Class Methods\n",
    "\n",
    "Define a class with a method that performs a division operation. Use try, except, and finally blocks within the method to handle division by zero and print an appropriate message.\n",
    "\n",
    "### Assignment 13: Exception Handling in Data Conversion\n",
    "\n",
    "Write a function that takes a list of strings and converts them to integers. Use try, except, and finally blocks to handle ValueError if a string cannot be converted and print an appropriate message.\n",
    "\n",
    "### Assignment 14: Exception Handling in List Comprehensions\n",
    "\n",
    "Write a function that uses a list comprehension to convert a list of strings to integers. Use try, except, and finally blocks within the list comprehension to handle ValueError and print an appropriate message.\n",
    "\n",
    "### Assignment 15: Exception Handling in File Writing\n",
    "\n",
    "Write a function that attempts to write a list of strings to a file. Use try, except, and finally blocks to handle IOError and ensure the file is properly closed."
   ]
  },
  {
   "cell_type": "code",
   "execution_count": 2,
   "metadata": {},
   "outputs": [
    {
     "name": "stdout",
     "output_type": "stream",
     "text": [
      "Division operation completed\n"
     ]
    },
    {
     "data": {
      "text/plain": [
       "'Division by zero is not allowed'"
      ]
     },
     "execution_count": 2,
     "metadata": {},
     "output_type": "execute_result"
    }
   ],
   "source": [
    "#Write a function that takes two integers as input and returns their division. \n",
    "# Use try, except, and finally blocks to handle division by zero and print an appropriate message.\n",
    "def division(a,b):\n",
    "    try:\n",
    "        return a/b\n",
    "    except ZeroDivisionError:\n",
    "        return \"Division by zero is not allowed\"\n",
    "    finally:\n",
    "        print(\"Division operation completed\")\n",
    "division(5,0)"
   ]
  },
  {
   "cell_type": "code",
   "execution_count": 7,
   "id": "1fb48862",
   "metadata": {},
   "outputs": [
    {
     "data": {
      "text/plain": [
       "'file not found'"
      ]
     },
     "execution_count": 7,
     "metadata": {},
     "output_type": "execute_result"
    }
   ],
   "source": [
    "#Write a function that reads the contents of a file named `data.txt`. \n",
    "# Use try, except, and finally blocks to handle file not found errors and ensure the file is properly closed.\n",
    "def read_file(file_name):\n",
    "    try:\n",
    "        with open(file_name, 'r') as file:\n",
    "            return file.read()\n",
    "    except FileNotFoundError:\n",
    "        return \"file not found\"\n",
    "    finally:\n",
    "        if 'file' in locals() and not file.closed():\n",
    "            file.close()\n",
    "            print(\"File closed\")\n",
    "read_file(\"data.txt\")"
   ]
  },
  {
   "cell_type": "code",
   "execution_count": 8,
   "id": "c55183ed",
   "metadata": {},
   "outputs": [
    {
     "name": "stdout",
     "output_type": "stream",
     "text": [
      "Sum operation completed\n"
     ]
    },
    {
     "data": {
      "text/plain": [
       "15"
      ]
     },
     "execution_count": 8,
     "metadata": {},
     "output_type": "execute_result"
    }
   ],
   "source": [
    "#Write a function that takes a list of integers and returns their sum. \n",
    "# Use try, except, and finally blocks to handle TypeError if a non-integer value is encountered and print an appropriate message.\n",
    "def sum_list(lst):\n",
    "    try:\n",
    "        return sum(lst)\n",
    "    except TypeError:\n",
    "        return \"Non-integer value found in list\"\n",
    "    finally:\n",
    "        print(\"Sum operation completed\")\n",
    "sum_list([1,2,3,4,5])\n"
   ]
  },
  {
   "cell_type": "code",
   "execution_count": 9,
   "id": "bbe22c6b",
   "metadata": {},
   "outputs": [
    {
     "name": "stdout",
     "output_type": "stream",
     "text": [
      "Operation completed\n"
     ]
    },
    {
     "data": {
      "text/plain": [
       "5"
      ]
     },
     "execution_count": 9,
     "metadata": {},
     "output_type": "execute_result"
    }
   ],
   "source": [
    "#Write a function that prompts the user to enter an integer.\n",
    "#  Use try, except, and finally blocks to handle ValueError if the user enters a non-integer value and print an appropriate message.\n",
    "def get_integer():\n",
    "    try:\n",
    "        return int(input(\"Enter an integer: \"))\n",
    "    except ValueError:\n",
    "        return \"Non-integer value entered\"\n",
    "    finally:\n",
    "        print(\"Operation completed\")\n",
    "print(get_integer())"
   ]
  },
  {
   "cell_type": "code",
   "execution_count": 10,
   "id": "c7c7064e",
   "metadata": {},
   "outputs": [],
   "source": [
    "'''Write a function that takes a dictionary and a key as input and returns the value associated with the key. \n",
    "Use try, except, and finally blocks to handle KeyError if the key is not found in the dictionary and print an appropriate message.'''\n",
    "def get_value(dictionary, key):\n",
    "    try:\n",
    "        return dictionary[key]\n",
    "    except KeyError:\n",
    "        return \"Key not found in dictionary\"\n",
    "    finally:\n",
    "        print(\"Operation completed\")"
   ]
  },
  {
   "cell_type": "code",
   "execution_count": null,
   "id": "a73e60db",
   "metadata": {},
   "outputs": [],
   "source": [
    "#write a function that attempts to write a list of strings to a file. \n",
    "# Use try, except, and finally blocks to handle IOError and ensure the file is properly closed.\n",
    "def write_to_file(file_name, lst):\n",
    "    try:\n",
    "        with open(file_name, 'w') as file:\n",
    "            for item in lst:\n",
    "                file.write(item + '\\n')\n",
    "    except IOError:\n",
    "        return \"An error occurred while writing to file\"\n",
    "    finally:\n",
    "        if 'file' in locals() and not file.closed():\n",
    "            file.close()\n",
    "            print(\"File closed\")"
   ]
  },
  {
   "cell_type": "code",
   "execution_count": null,
   "id": "fa84bb6f",
   "metadata": {},
   "outputs": [],
   "source": [
    "#Write a function that uses a list comprehension to convert a list of strings to integers. \n",
    "#Use try, except, and finally blocks within the list comprehension to handle ValueError and print an appropriate message.\n",
    "\n"
   ]
  },
  {
   "cell_type": "code",
   "execution_count": 11,
   "id": "684fe140",
   "metadata": {},
   "outputs": [],
   "source": [
    "def str_to_int(a):\n",
    "  try:\n",
    "    return [int(i) for i in a]\n",
    "  except ValueError as ve:\n",
    "    return ve\n",
    "  finally:\n",
    "    return f'list operation of {a} is completed'"
   ]
  }
 ],
 "metadata": {
  "kernelspec": {
   "display_name": "Python 3",
   "language": "python",
   "name": "python3"
  },
  "language_info": {
   "codemirror_mode": {
    "name": "ipython",
    "version": 3
   },
   "file_extension": ".py",
   "mimetype": "text/x-python",
   "name": "python",
   "nbconvert_exporter": "python",
   "pygments_lexer": "ipython3",
   "version": "3.13.1"
  }
 },
 "nbformat": 4,
 "nbformat_minor": 5
}
