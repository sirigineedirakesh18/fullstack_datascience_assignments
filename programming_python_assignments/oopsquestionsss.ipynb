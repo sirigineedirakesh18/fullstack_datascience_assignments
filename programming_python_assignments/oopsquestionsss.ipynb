{
 "cells": [
  {
   "cell_type": "markdown",
   "id": "79173f65",
   "metadata": {},
   "source": [
    "# Module: OOP Assignments\n",
    "## Lesson: Polymorphism, Abstraction, and Encapsulation\n",
    "### Assignment 1: Polymorphism with Methods\n",
    "\n",
    "Create a base class named `Shape` with a method `area`. Create two derived classes `Circle` and `Square` that override the `area` method. Create a list of `Shape` objects and call the `area` method on each object to demonstrate polymorphism.\n",
    "\n",
    "### Assignment 2: Polymorphism with Function Arguments\n",
    "\n",
    "Create a function named `describe_shape` that takes a `Shape` object as an argument and calls its `area` method. Create objects of `Circle` and `Square` classes and pass them to the `describe_shape` function.\n",
    "\n",
    "### Assignment 3: Abstract Base Class with Abstract Methods\n",
    "\n",
    "Create an abstract base class named `Vehicle` with an abstract method `start_engine`. Create derived classes `Car` and `Bike` that implement the `start_engine` method. Create objects of the derived classes and call the `start_engine` method.\n",
    "\n",
    "### Assignment 4: Abstract Base Class with Concrete Methods\n",
    "\n",
    "In the `Vehicle` class, add a concrete method `fuel_type` that returns a generic fuel type. Override this method in `Car` and `Bike` classes to return specific fuel types. Create objects of the derived classes and call the `fuel_type` method.\n",
    "\n",
    "### Assignment 5: Encapsulation with Private Attributes\n",
    "\n",
    "Create a class named `BankAccount` with private attributes `account_number` and `balance`. Add methods to deposit and withdraw money, and to check the balance. Ensure that the balance cannot be accessed directly.\n",
    "\n",
    "### Assignment 6: Encapsulation with Property Decorators\n",
    "\n",
    "In the `BankAccount` class, use property decorators to get and set the `balance` attribute. Ensure that the balance cannot be set to a negative value.\n",
    "\n",
    "### Assignment 7: Combining Encapsulation and Inheritance\n",
    "\n",
    "Create a base class named `Person` with private attributes `name` and `age`. Add methods to get and set these attributes. Create a derived class named `Student` that adds an attribute `student_id`. Create an object of the `Student` class and test the encapsulation.\n",
    "\n",
    "### Assignment 8: Polymorphism with Inheritance\n",
    "\n",
    "Create a base class named `Animal` with a method `speak`. Create two derived classes `Dog` and `Cat` that override the `speak` method. Create a list of `Animal` objects and call the `speak` method on each object to demonstrate polymorphism.\n",
    "\n",
    "### Assignment 9: Abstract Methods in Base Class\n",
    "\n",
    "Create an abstract base class named `Employee` with an abstract method `calculate_salary`. Create two derived classes `FullTimeEmployee` and `PartTimeEmployee` that implement the `calculate_salary` method. Create objects of the derived classes and call the `calculate_salary` method.\n",
    "\n",
    "### Assignment 10: Encapsulation in Data Classes\n",
    "\n",
    "Create a data class named `Product` with private attributes `product_id`, `name`, and `price`. Add methods to get and set these attributes. Ensure that the price cannot be set to a negative value.\n",
    "\n",
    "### Assignment 11: Polymorphism with Operator Overloading\n",
    "\n",
    "Create a class named `Vector` with attributes `x` and `y`. Overload the `+` operator to add two `Vector` objects. Create objects of the class and test the operator overloading.\n",
    "\n",
    "### Assignment 12: Abstract Properties\n",
    "\n",
    "Create an abstract base class named `Appliance` with an abstract property `power`. Create two derived classes `WashingMachine` and `Refrigerator` that implement the `power` property. Create objects of the derived classes and access the `power` property.\n",
    "\n",
    "### Assignment 13: Encapsulation in Class Hierarchies\n",
    "\n",
    "Create a base class named `Account` with private attributes `account_number` and `balance`. Add methods to get and set these attributes. Create a derived class named `SavingsAccount` that adds an attribute `interest_rate`. Create an object of the `SavingsAccount` class and test the encapsulation.\n",
    "\n",
    "### Assignment 14: Polymorphism with Multiple Inheritance\n",
    "\n",
    "Create a class named `Flyer` with a method `fly`. Create a class named `Swimmer` with a method `swim`. Create a class named `Superhero` that inherits from both `Flyer` and `Swimmer` and overrides both methods. Create an object of the `Superhero` class and call both methods.\n",
    "\n",
    "### Assignment 15: Abstract Methods and Multiple Inheritance\n",
    "\n",
    "Create an abstract base class named `Worker` with an abstract method `work`. Create two derived classes `Engineer` and `Doctor` that implement the `work` method. Create another derived class `Scientist` that inherits from both `Engineer` and `Doctor`. Create an object of the `Scientist` class and call the `work` method."
   ]
  },
  {
   "cell_type": "code",
   "execution_count": 3,
   "id": "1e1dd0f4",
   "metadata": {},
   "outputs": [
    {
     "name": "stdout",
     "output_type": "stream",
     "text": [
      "Area of Circle\n",
      "Area of Square\n"
     ]
    }
   ],
   "source": [
    "#Create a base class named `Shape` with a method `area`. \n",
    "# Create two derived classes `Circle` and `Square` that override the `area` method.\n",
    "#  Create a list of `Shape` objects and call the `area` method on each object to demonstrate polymorphism.\n",
    "class Shape:\n",
    "    def area(self):\n",
    "        pass\n",
    "class Circle(Shape):\n",
    "    def area(self):\n",
    "        print(\"Area of Circle\")\n",
    "class Square(Shape):\n",
    "    def area(self):\n",
    "        print(\"Area of Square\")\n",
    "s1=Circle()\n",
    "s1.area()\n",
    "s2=Square()\n",
    "s2.area()\n"
   ]
  },
  {
   "cell_type": "code",
   "execution_count": 2,
   "id": "ac4f00cb",
   "metadata": {},
   "outputs": [
    {
     "name": "stdout",
     "output_type": "stream",
     "text": [
      "Area of Circle\n",
      "the area of the shape is:None\n",
      "Area of Square\n",
      "the area of the shape is:None\n"
     ]
    }
   ],
   "source": [
    "#Create a function named `describe_shape` that takes a `Shape` object as an argument and calls its `area` method.\n",
    "#Create objects of `Circle` and `Square` classes and pass them to the `describe_shape` function.\n",
    "\n",
    "class Shape:\n",
    "    def area(self):\n",
    "        pass\n",
    "class Circle(Shape):\n",
    "    def area(self):\n",
    "        print(\"Area of Circle\")\n",
    "class Square(Shape):\n",
    "    def area(self):\n",
    "        print(\"Area of Square\")\n",
    "def describe_shape(shape):\n",
    "    print(\"the area of the shape is:{}\".format(shape.area()))\n",
    "s1=Circle()\n",
    "s2=Square()\n",
    "describe_shape(s1)\n",
    "describe_shape(s2)"
   ]
  },
  {
   "cell_type": "code",
   "execution_count": 5,
   "id": "f40c0eab",
   "metadata": {},
   "outputs": [
    {
     "data": {
      "text/plain": [
       "'Driving the car'"
      ]
     },
     "execution_count": 5,
     "metadata": {},
     "output_type": "execute_result"
    }
   ],
   "source": [
    "#Create an abstract base class named `Vehicle` with an abstract method `start_engine`. \n",
    "# Create derived classes `Car` and `Bike` that implement the `start_engine` method.\n",
    "#  Create objects of the derived classes and call the `start_engine` method.\n",
    "from abc import ABC,abstractmethod\n",
    "class Vehicle(ABC):\n",
    "    @abstractmethod\n",
    "    def start_engine(self):\n",
    "        pass\n",
    "class Car(Vehicle):\n",
    "    def start_engine(self):\n",
    "        return \"Driving the car\"\n",
    "class Bike(Vehicle):\n",
    "    def start_engine(self):\n",
    "        return \"driving the bike\"\n",
    "car=Car()\n",
    "bike=Bike()\n",
    "car.start_engine()\n"
   ]
  },
  {
   "cell_type": "code",
   "execution_count": 7,
   "id": "b73c9737",
   "metadata": {},
   "outputs": [
    {
     "name": "stdout",
     "output_type": "stream",
     "text": [
      "diesel\n",
      "petrol\n",
      "Driving the car\n",
      "driving the bike\n"
     ]
    }
   ],
   "source": [
    "#in the `Vehicle` class, add a concrete method `fuel_type` that returns a generic fuel type.\n",
    "#  Override this method in `Car` and `Bike` classes to return specific fuel types. \n",
    "# Create objects of the derived classes and call the `fuel_type` method.\n",
    "from abc import ABC,abstractmethod\n",
    "class Vehicle(ABC):\n",
    "    @abstractmethod\n",
    "    def start_engine(self):\n",
    "        pass\n",
    "    def fuel_type(self):\n",
    "        return \"Generic fuel type\"\n",
    "class Car(Vehicle):\n",
    "    def start_engine(self):\n",
    "        return \"Driving the car\"\n",
    "    def fuel_type(self):\n",
    "        return \"diesel\"\n",
    "class Bike(Vehicle):\n",
    "    def start_engine(self):\n",
    "        return \"driving the bike\"\n",
    "    def fuel_type(self):\n",
    "        return \"petrol\"\n",
    "car=Car()\n",
    "bike=Bike()\n",
    "print(car.fuel_type())\n",
    "print(bike.fuel_type())\n",
    "print(car.start_engine())\n",
    "print(bike.start_engine())\n"
   ]
  },
  {
   "cell_type": "code",
   "execution_count": 11,
   "id": "cf35e06b",
   "metadata": {},
   "outputs": [
    {
     "data": {
      "text/plain": [
       "5000"
      ]
     },
     "execution_count": 11,
     "metadata": {},
     "output_type": "execute_result"
    }
   ],
   "source": [
    "#create a class named `BankAccount` with private attributes `account_number` and `balance`.\n",
    "# Add methods to deposit and withdraw money, and to check the balance.\n",
    "# Ensure that the balance cannot be accessed directly.\n",
    "class BankAccount:\n",
    "    def __init__(self,account_number,balance):\n",
    "        self.__account_number=account_number\n",
    "        self.__balance=balance\n",
    "    def deposit(self,amount):\n",
    "        self.__balance+=amount\n",
    "    def withdraw(self,amount):\n",
    "        self.__balance-=amount\n",
    "    def check_balance(self):\n",
    "        return self.__balance\n",
    "b=BankAccount(12345,5000)\n",
    "b.check_balance()\n"
   ]
  },
  {
   "cell_type": "code",
   "execution_count": 23,
   "id": "2a11b190",
   "metadata": {},
   "outputs": [
    {
     "name": "stdout",
     "output_type": "stream",
     "text": [
      "balance cannot be negative\n"
     ]
    }
   ],
   "source": [
    "#In the `BankAccount` class, use property decorators to get and set the `balance` attribute.\n",
    "# Ensure that the balance cannot be set to a negative value.\n",
    "class BankAccount:\n",
    "    def __init__(self,account_number,balance=0):\n",
    "        self.__account_number = account_number\n",
    "        self.__balance = balance\n",
    "\n",
    "    @property\n",
    "    def balance(self):\n",
    "        return self.__balance\n",
    "    \n",
    "    @balance.setter\n",
    "    def balance(self,amount):\n",
    "        if amount <0:\n",
    "            print(\"balance cannot be negative\")\n",
    "        else:\n",
    "            self.__balance=amount\n",
    "\n",
    "    def deposit(self,amount):\n",
    "        self.balance += amount\n",
    "\n",
    "    def withdraw(self,amount):\n",
    "        if amount>self.balance:\n",
    "            print(\"insufficient balance\")\n",
    "        else:\n",
    "            self.balance-=amount\n",
    "        \n",
    "  \n",
    "b=BankAccount(12345,1000)\n",
    "b.balance=-10"
   ]
  },
  {
   "cell_type": "code",
   "execution_count": 34,
   "id": "d42cec7d",
   "metadata": {},
   "outputs": [
    {
     "name": "stdout",
     "output_type": "stream",
     "text": [
      "John 20 123\n",
      "Alice 22 123\n"
     ]
    }
   ],
   "source": [
    "#Create a base class named `Person` with private attributes `name` and `age`.\n",
    "# Add methods to get and set these attributes. Create a derived class named `Student` that adds an attribute `student_id`. \n",
    "# Create an object of the `Student` class and test the encapsulation.\n",
    "class Person:\n",
    "  def __init__(self,name,age):\n",
    "    self.__name=name\n",
    "    self.__age=age\n",
    "  def get_name(self):\n",
    "    return self.__name\n",
    "  def set_name(self,name):\n",
    "    self.__name=name\n",
    "  def get_age(self):\n",
    "    return self.__age\n",
    "  def set_age(self,age):\n",
    "    self.__age=age\n",
    "class Student(Person):\n",
    "  def __init__(self,name,age,student_id):\n",
    "    super().__init__(name,age)\n",
    "    self.student_id=student_id\n",
    "student=Student(\"John\",20,123)\n",
    "print(student.get_name(),student.get_age(),student.student_id)\n",
    "student.set_name(\"Alice\")\n",
    "student.set_age(22)\n",
    "print(student.get_name(),student.get_age(),student.student_id)"
   ]
  },
  {
   "cell_type": "code",
   "execution_count": 35,
   "id": "4dc3ac35",
   "metadata": {},
   "outputs": [
    {
     "name": "stdout",
     "output_type": "stream",
     "text": [
      "bark\n",
      "meow\n"
     ]
    }
   ],
   "source": [
    "#Create a base class named `Animal` with a method `speak`.\n",
    "#  Create two derived classes `Dog` and `Cat` that override the `speak` method. \n",
    "# Create a list of `Animal` objects and call the `speak` method on each object to demonstrate polymorphism.\n",
    "class Animal:\n",
    "    def speak(self):\n",
    "        pass\n",
    "class Dog(Animal):\n",
    "    def speak(self):\n",
    "        print(\"bark\")\n",
    "class Cat(Animal):\n",
    "    def speak(self):\n",
    "        print(\"meow\")\n",
    "animals=[Dog(),Cat()]\n",
    "for animal in animals:\n",
    "    animal.speak()"
   ]
  },
  {
   "cell_type": "code",
   "execution_count": 39,
   "id": "7a7d7e6c",
   "metadata": {},
   "outputs": [
    {
     "name": "stdout",
     "output_type": "stream",
     "text": [
      "full time employee salary is : 50000\n",
      "part time employee salary is: 800\n"
     ]
    }
   ],
   "source": [
    "#Create an abstract base class named `Employee` with an abstract method `calculate_salary`.\n",
    "#Create two derived classes `FullTimeEmployee` and `PartTimeEmployee` that implement the `calculate_salary` method.\n",
    "#Create objects of the derived classes and call the `calculate_salary` method.\n",
    "from abc import ABC,abstractmethod\n",
    "class Employee(ABC):\n",
    "    @abstractmethod\n",
    "    def calculate_salary(self):\n",
    "        pass\n",
    "class FullTimeEmployee(Employee):\n",
    "    def __init__(self,salary):\n",
    "        self.salary=salary\n",
    "    def calculate_salary(self):\n",
    "        print(\"full time employee salary is :\",self.salary)\n",
    "class PartTimeEmployee(Employee):\n",
    "    def __init__(self,hours_worked,hourly_rate):\n",
    "        self.hours_worked=hours_worked\n",
    "        self.hourly_rate=hourly_rate\n",
    "    def calculate_salary(self):\n",
    "        print(\"part time employee salary is:\",self.hours_worked*self.hourly_rate)\n",
    "f=FullTimeEmployee(50000)\n",
    "p=PartTimeEmployee(40,20)\n",
    "f.calculate_salary()\n",
    "p.calculate_salary()\n"
   ]
  },
  {
   "cell_type": "code",
   "execution_count": 57,
   "id": "28ea8099",
   "metadata": {},
   "outputs": [
    {
     "name": "stdout",
     "output_type": "stream",
     "text": [
      "123 laptop 50000\n",
      "price cannot be negative\n"
     ]
    },
    {
     "data": {
      "text/plain": [
       "60000"
      ]
     },
     "execution_count": 57,
     "metadata": {},
     "output_type": "execute_result"
    }
   ],
   "source": [
    "#Create a data class named `Product` with private attributes `product_id`, `name`, and `price`.\n",
    "#  Add methods to get and set these attributes.\n",
    "# Ensure that the price cannot be set to a negative value.\n",
    "class Product:\n",
    "    def __init__(self,product_id,name,price):\n",
    "        self.__product_id=product_id\n",
    "        self.__name=name\n",
    "        self.__price=price\n",
    "    def get_product_id(self):\n",
    "        return self.__product_id\n",
    "    def set_product_id(self,product_id):\n",
    "        self.__product_id=product_id\n",
    "    def get_name(self):\n",
    "        return self.__name\n",
    "    def set_name(self,name):\n",
    "        self.__name=name\n",
    "    def get_price(self):\n",
    "        return self.__price\n",
    "    def set_price(self,price):\n",
    "        if price<0:\n",
    "            print(\"price cannot be negative\")\n",
    "        else:\n",
    "            self.__price=price\n",
    "p=Product(123,\"laptop\",50000)\n",
    "print(p.get_product_id(),p.get_name(),p.get_price())\n",
    "p.set_price(-1000)\n",
    "p.set_price(60000)\n",
    "p.get_price()"
   ]
  },
  {
   "cell_type": "code",
   "execution_count": 61,
   "id": "187cb24e",
   "metadata": {},
   "outputs": [
    {
     "name": "stdout",
     "output_type": "stream",
     "text": [
      "4 6\n"
     ]
    }
   ],
   "source": [
    "#Create a class named `Vector` with attributes `x` and `y`.\n",
    "# Overload the `+` operator to add two `Vector` objects.\n",
    "# Create objects of the class and test the operator overloading.\n",
    "class Vector:\n",
    "    def __init__(self,x,y):\n",
    "        self.x=x\n",
    "        self.y=y\n",
    "    def __add__(self,other):\n",
    "        return Vector(self.x+other.x,self.y+other.y)\n",
    "o=Vector(1,2)\n",
    "p=Vector(3,4)\n",
    "result=o+p\n",
    "print(result.x,result.y)"
   ]
  },
  {
   "cell_type": "code",
   "execution_count": 62,
   "id": "fc31459c",
   "metadata": {},
   "outputs": [
    {
     "name": "stdout",
     "output_type": "stream",
     "text": [
      "200W\n",
      "400W\n"
     ]
    }
   ],
   "source": [
    "#Create an abstract base class named `Appliance` with an abstract property `power`.\n",
    "#  Create two derived classes `WashingMachine` and `Refrigerator` that implement the `power` property.\n",
    "# Create objects of the derived classes and access the `power` property.\n",
    "from abc import ABC,abstractmethod\n",
    "class Appliance(ABC):\n",
    "    @property\n",
    "    @abstractmethod\n",
    "    def power(self):\n",
    "        pass\n",
    "class WashingMachine(Appliance):\n",
    "    @property\n",
    "    def power(self):\n",
    "        return \"200W\"\n",
    "class Refrigerator(Appliance):\n",
    "    @property\n",
    "    def power(self):\n",
    "        return \"400W\"\n",
    "a=WashingMachine()\n",
    "b=Refrigerator()\n",
    "print(a.power)\n",
    "print(b.power)\n"
   ]
  },
  {
   "cell_type": "code",
   "execution_count": 64,
   "id": "9c9d80de",
   "metadata": {},
   "outputs": [
    {
     "name": "stdout",
     "output_type": "stream",
     "text": [
      "12345 5000 5\n"
     ]
    }
   ],
   "source": [
    "#Create a base class named `Account` with private attributes `account_number` and `balance`.\n",
    "#  Add methods to get and set these attributes. \n",
    "# Create a derived class named `SavingsAccount` that adds an attribute `interest_rate`.\n",
    "#  Create an object of the `SavingsAccount` class and test the encapsulation.\n",
    "class Account:\n",
    "    def __init__(self,account_number,balance=0):\n",
    "        self.__account_number=account_number\n",
    "        self.__balance=balance\n",
    "    def get_account_number(self):\n",
    "        return self.__account_number\n",
    "    def set_account_number(self,account_number):\n",
    "        self.__account_number=account_number\n",
    "    def get_balance(self):\n",
    "        return self.__balance\n",
    "    def set_balance(self,balance):\n",
    "        if balance<0:\n",
    "            print(\"balance cannot be negative\")\n",
    "        else:\n",
    "            self.__balance=balance\n",
    "class SavingsAccount(Account):\n",
    "    def __init__(self,account_number,balance,interest_rate):\n",
    "        super().__init__(account_number,balance)\n",
    "        self.interest_rate=interest_rate\n",
    "s=SavingsAccount(12345,5000,5)\n",
    "print(s.get_account_number(),s.get_balance(),s.interest_rate)"
   ]
  },
  {
   "cell_type": "code",
   "execution_count": 65,
   "id": "bdcb7678",
   "metadata": {},
   "outputs": [
    {
     "name": "stdout",
     "output_type": "stream",
     "text": [
      "Superhero flying\n",
      "Superhero swimming\n"
     ]
    }
   ],
   "source": [
    "#Create a class named `Flyer` with a method `fly`. Create a class named `Swimmer` with a method `swim`.\n",
    "#  Create a class named `Superhero` that inherits from both `Flyer` and `Swimmer` and overrides both methods. \n",
    "# Create an object of the `Superhero` class and call both methods.\n",
    "class Flyer:\n",
    "    def fly(self):\n",
    "        print(\"flying\")\n",
    "class Swimmer:\n",
    "    def swim(self):\n",
    "        print(\"swimming\")\n",
    "class Superhero(Flyer,Swimmer):\n",
    "    def fly(self):\n",
    "        print(\"Superhero flying\")\n",
    "    def swim(self):\n",
    "        print(\"Superhero swimming\")\n",
    "s=Superhero()\n",
    "s.fly()\n",
    "s.swim()"
   ]
  },
  {
   "cell_type": "code",
   "execution_count": 73,
   "id": "561fdfee",
   "metadata": {},
   "outputs": [
    {
     "name": "stdout",
     "output_type": "stream",
     "text": [
      "engineer builds\n",
      "doctor cures\n"
     ]
    }
   ],
   "source": [
    "#create an abstract base class named `Worker` with an abstract method `work`.\n",
    "# Create two derived classes `Engineer` and `Doctor` that implement the `work` method.\n",
    "# Create another derived class `Scientist` that inherits from both `Engineer` and `Doctor`. \n",
    "# Create an object of the `Scientist` class and call the `work` method\n",
    "from abc import ABC,abstractmethod\n",
    "class Worker(ABC):\n",
    "    @abstractmethod\n",
    "    def work(self):\n",
    "        pass\n",
    "class Engineer(Worker):\n",
    "    def work(self):\n",
    "        print(\"engineer builds\")\n",
    "class Doctor(Worker):\n",
    "    def work(self):\n",
    "        print(\"doctor cures\")\n",
    "class Scientist(Engineer,Doctor):\n",
    "    def work(self):\n",
    "        Engineer.work(self)\n",
    "        Doctor.work(self)\n",
    "obj=Scientist()\n",
    "obj.work()"
   ]
  }
 ],
 "metadata": {
  "kernelspec": {
   "display_name": "Python 3",
   "language": "python",
   "name": "python3"
  },
  "language_info": {
   "codemirror_mode": {
    "name": "ipython",
    "version": 3
   },
   "file_extension": ".py",
   "mimetype": "text/x-python",
   "name": "python",
   "nbconvert_exporter": "python",
   "pygments_lexer": "ipython3",
   "version": "3.13.1"
  }
 },
 "nbformat": 4,
 "nbformat_minor": 5
}
