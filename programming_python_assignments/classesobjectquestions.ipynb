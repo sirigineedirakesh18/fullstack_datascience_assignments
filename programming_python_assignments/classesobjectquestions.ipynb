{
 "cells": [
  {
   "cell_type": "markdown",
   "metadata": {},
   "source": [
    "# Module: Classes and Objects Assignments\n",
    "## Lesson: Creating and Working with Classes and Objects\n",
    "### Assignment 1: Basic Class and Object Creation\n",
    "\n",
    "Create a class named `Car` with attributes `make`, `model`, and `year`. Create an object of the class and print its attributes.\n",
    "\n",
    "### Assignment 2: Methods in Class\n",
    "\n",
    "Add a method named `start_engine` to the `Car` class that prints a message when the engine starts. Create an object of the class and call the method.\n",
    "\n",
    "### Assignment 3: Class with Constructor\n",
    "\n",
    "Create a class named `Student` with attributes `name` and `age`. Use a constructor to initialize these attributes. Create an object of the class and print its attributes.\n",
    "\n",
    "### Assignment 4: Class with Private Attributes\n",
    "\n",
    "Create a class named `BankAccount` with private attributes `account_number` and `balance`. Add methods to deposit and withdraw money, and to check the balance. Create an object of the class and perform some operations.\n",
    "\n",
    "### Assignment 5: Class Inheritance\n",
    "\n",
    "Create a base class named `Person` with attributes `name` and `age`. Create a derived class named `Employee` that inherits from `Person` and adds an attribute `employee_id`. Create an object of the derived class and print its attributes.\n",
    "\n",
    "### Assignment 6: Method Overriding\n",
    "\n",
    "In the `Employee` class, override the `__str__` method to return a string representation of the object. Create an object of the class and print it.\n",
    "\n",
    "### Assignment 7: Class Composition\n",
    "\n",
    "Create a class named `Address` with attributes `street`, `city`, and `zipcode`. Create a class named `Person` that has an `Address` object as an attribute. Create an object of the `Person` class and print its address.\n",
    "\n",
    "### Assignment 8: Class with Class Variables\n",
    "\n",
    "Create a class named `Counter` with a class variable `count`. Each time an object is created, increment the count. Add a method to get the current count. Create multiple objects and print the count.\n",
    "\n",
    "### Assignment 9: Static Methods\n",
    "\n",
    "Create a class named `MathOperations` with a static method to calculate the square root of a number. Call the static method without creating an object.\n",
    "\n",
    "### Assignment 10: Class with Properties\n",
    "\n",
    "Create a class named `Rectangle` with private attributes `length` and `width`. Use properties to get and set these attributes. Create an object of the class and test the properties.\n",
    "\n",
    "### Assignment 11: Abstract Base Class\n",
    "\n",
    "Create an abstract base class named `Shape` with an abstract method `area`. Create derived classes `Circle` and `Square` that implement the `area` method. Create objects of the derived classes and call the `area` method.\n",
    "\n",
    "### Assignment 12: Operator Overloading\n",
    "\n",
    "Create a class named `Vector` with attributes `x` and `y`. Overload the `+` operator to add two `Vector` objects. Create objects of the class and test the operator overloading.\n",
    "\n",
    "### Assignment 13: Class with Custom Exception\n",
    "\n",
    "Create a custom exception named `InsufficientBalanceError`. In the `BankAccount` class, raise this exception when a withdrawal amount is greater than the balance. Handle the exception and print an appropriate message.\n",
    "\n",
    "### Assignment 14: Class with Context Manager\n",
    "\n",
    "Create a class named `FileManager` that implements the context manager protocol to open and close a file. Use this class to read the contents of a file.\n",
    "\n",
    "### Assignment 15: Chaining Methods\n",
    "\n",
    "Create a class named `Calculator` with methods to add, subtract, multiply, and divide. Each method should return the object itself to allow method chaining. Create an object and chain multiple method calls."
   ]
  },
  {
   "cell_type": "code",
   "execution_count": 4,
   "metadata": {},
   "outputs": [
    {
     "name": "stdout",
     "output_type": "stream",
     "text": [
      "baleno\n"
     ]
    }
   ],
   "source": [
    "#Create a class named `Car` with attributes `make`, `model`, and `year`. Create an object of the class and print its attributes.\n",
    "\n",
    "class Car:\n",
    "  def __init__(self,make,model,year):\n",
    "      self.make=make\n",
    "      self.model=model\n",
    "      self.year=year\n",
    "suzuki=Car('baleno','highend',2017)\n",
    "print(suzuki.make)\n",
    "\n",
    "\n",
    "  "
   ]
  },
  {
   "cell_type": "code",
   "execution_count": 11,
   "id": "866bd2e2",
   "metadata": {},
   "outputs": [
    {
     "data": {
      "text/plain": [
       "'engine is started'"
      ]
     },
     "execution_count": 11,
     "metadata": {},
     "output_type": "execute_result"
    }
   ],
   "source": [
    "#Add a method named `start_engine` to the `Car` class that prints a message when the engine starts.\n",
    "#  Create an object of the class and call the method.\n",
    "class Car:\n",
    "    def __init__(self,make,model,year):\n",
    "        self.make=make\n",
    "        self.model=model\n",
    "        self.year=year\n",
    "    def start_engine(self):\n",
    "        return \"engine is started\"\n",
    "car= Car('Toyota', 'Camry', 2020)\n",
    "car.start_engine()\n",
    "suzuki=Car('baleno','highend','2017')\n",
    "suzuki.start_engine()\n",
    "  "
   ]
  },
  {
   "cell_type": "code",
   "execution_count": 13,
   "id": "4a8e7df9",
   "metadata": {},
   "outputs": [
    {
     "name": "stdout",
     "output_type": "stream",
     "text": [
      "Rakesh   25\n"
     ]
    }
   ],
   "source": [
    "#Create a class named `Student` with attributes `name` and `age`. \n",
    "# Use a constructor to initialize these attributes. Create an object of the class and print its attributes.\n",
    "class Student:\n",
    "  def __init__(self,name,age):\n",
    "      self.name=name\n",
    "      self.age=age\n",
    "student_1=Student(\"Rakesh\",25)\n",
    "print(student_1.name,\" \",student_1.age)"
   ]
  },
  {
   "cell_type": "code",
   "execution_count": 29,
   "id": "df8ed6bf",
   "metadata": {},
   "outputs": [
    {
     "name": "stdout",
     "output_type": "stream",
     "text": [
      "the deposited amount is 2000\n",
      "amount insufficient to withdraw\n",
      "the remaining balance is :  4000\n"
     ]
    }
   ],
   "source": [
    "#Create a class named `BankAccount` with private attributes `account_number` and `balance`.\n",
    "#  Add methods to deposit and withdraw money, and to check the balance.\n",
    "#  Create an object of the class and perform some operations.\n",
    "\n",
    "class BankAccount:\n",
    "  def __init__(self,account_number,balance):\n",
    "      self.__account_number=account_number\n",
    "      self.__balance=balance\n",
    "  def deposit(self,amount_deposit):\n",
    "      if amount_deposit <=0:\n",
    "         print(\"the deposit should be positive\")\n",
    "      else:\n",
    "         self.__balance+=amount_deposit\n",
    "         print(\"the deposited amount is\",amount_deposit)\n",
    "  def withdraw(self,amount_withdraw):\n",
    "      if self.__balance <0:\n",
    "         print(\"you cant withdraw\")\n",
    "      elif amount_withdraw > self.__balance:\n",
    "         print(\"amount insufficient to withdraw\")\n",
    "      else:\n",
    "         self.__balance -=amount_withdraw\n",
    "         print(\"the withdraw amount is \",amount_withdraw)\n",
    "  def balance(self):\n",
    "    print(\"the remaining balance is : \",self.__balance)\n",
    "account_1=BankAccount(5102736782762,2000)\n",
    "account_1.deposit(2000)\n",
    "account_1.withdraw(4500)\n",
    "account_1.balance()\n",
    "         \n",
    "      \n",
    "\n",
    "  "
   ]
  },
  {
   "cell_type": "code",
   "execution_count": 12,
   "id": "7640d656",
   "metadata": {},
   "outputs": [
    {
     "data": {
      "text/plain": [
       "25"
      ]
     },
     "execution_count": 12,
     "metadata": {},
     "output_type": "execute_result"
    }
   ],
   "source": [
    "#Create a base class named `Person` with attributes `name` and `age`. \n",
    "# Create a derived class named `Employee` that inherits from `Person` and adds an attribute `employee_id`. \n",
    "# Create an object of the derived class and print its attributes.\n",
    "\n",
    "class Person():\n",
    "  def __init__(self,name,age):\n",
    "      self.name=name\n",
    "      self.age=age\n",
    "class Employee(Person):\n",
    "    def __init__(self,name, age,employee_id):\n",
    "        super().__init__(name,age)\n",
    "        self.employee_id=employee_id\n",
    "employee1= Employee('Rakesh',25,12345)\n",
    "employee1.age"
   ]
  },
  {
   "cell_type": "code",
   "execution_count": 15,
   "id": "d1a55139",
   "metadata": {},
   "outputs": [
    {
     "data": {
      "text/plain": [
       "'Rakesh is 25 years old and his employee id is 12345'"
      ]
     },
     "execution_count": 15,
     "metadata": {},
     "output_type": "execute_result"
    }
   ],
   "source": [
    "#In the `Employee` class, override the `__str__` method to return a string representation of the object. \n",
    "# Create an object of the class and print it.\n",
    "class Person():\n",
    "  def __init__(self,name,age):\n",
    "      self.name=name\n",
    "      self.age=age\n",
    "class Employee(Person):\n",
    "    def __init__(self,name, age,employee_id):\n",
    "        super().__init__(name,age)\n",
    "        self.employee_id=employee_id\n",
    "    def __str__(self):\n",
    "        return f\"{self.name} is {self.age} years old and his employee id is {self.employee_id}\"\n",
    "employee1= Employee('Rakesh',25,12345)\n",
    "employee1.__str__()"
   ]
  },
  {
   "cell_type": "code",
   "execution_count": 24,
   "id": "a2361f5a",
   "metadata": {},
   "outputs": [
    {
     "data": {
      "text/plain": [
       "'swaminaidu'"
      ]
     },
     "execution_count": 24,
     "metadata": {},
     "output_type": "execute_result"
    }
   ],
   "source": [
    "#Create a class named `Address` with attributes `street`, `city`, and `zipcode`. \n",
    "# Create a class named `Person` that has an `Address` object as an attribute.\n",
    "#  Create an object of the `Person` class and print its address.\n",
    "class Address:\n",
    "  def __init__(self,street,city,zipcode):\n",
    "    self.street= street\n",
    "    self.city=city\n",
    "    self.zipcode=zipcode\n",
    "class Person:\n",
    "  def __init__(self,name,age,address):\n",
    "    self.name = name\n",
    "    self.age = age\n",
    "    self.address = address\n",
    "address = Address('swaminaidu','kothapeta',533223)\n",
    "person=Person(\"rakesh\",24,address)\n",
    "person.address.street\n",
    "\n"
   ]
  },
  {
   "cell_type": "code",
   "execution_count": 28,
   "id": "5dc59ccc",
   "metadata": {},
   "outputs": [
    {
     "data": {
      "text/plain": [
       "2"
      ]
     },
     "execution_count": 28,
     "metadata": {},
     "output_type": "execute_result"
    }
   ],
   "source": [
    "#Create a class named `Counter` with a class variable `count`.\n",
    "#  Each time an object is created, increment the count.\n",
    "#  Add a method to get the current count. Create multiple objects and print the count.\n",
    "\n",
    "class Counter:\n",
    "  count=0\n",
    "  def __init__(self):\n",
    "      Counter.count+=1\n",
    "  @classmethod\n",
    "  def get_counter(cls):\n",
    "     return cls.count\n",
    "x=Counter()\n",
    "y=Counter()\n",
    "Counter.get_counter()\n",
    "     "
   ]
  },
  {
   "cell_type": "code",
   "execution_count": 5,
   "id": "efaa2270",
   "metadata": {},
   "outputs": [
    {
     "name": "stdout",
     "output_type": "stream",
     "text": [
      "4.0\n"
     ]
    }
   ],
   "source": [
    "#Create a class named `MathOperations` with a static method to calculate the square root of a number. \n",
    "# Call the static method without creating an object.\n",
    "class MathOperations:\n",
    "  @staticmethod\n",
    "  def sqrt_number(number):\n",
    "    return number**0.5\n",
    "number2=MathOperations.sqrt_number(16)\n",
    "print(number2)"
   ]
  },
  {
   "cell_type": "code",
   "execution_count": 27,
   "id": "ef457268",
   "metadata": {},
   "outputs": [
    {
     "data": {
      "text/plain": [
       "90"
      ]
     },
     "execution_count": 27,
     "metadata": {},
     "output_type": "execute_result"
    }
   ],
   "source": [
    "#Create a class named `Rectangle` with private attributes `length` and `width`.\n",
    "#  Use properties to get and set these attributes.\n",
    "#  Create an object of the class and test the properties.\n",
    "class Rectangle:\n",
    "  def __init__(self,length,width):\n",
    "    self.length=length\n",
    "    self.width=width\n",
    "  @property\n",
    "  def length(self):\n",
    "    return self.__length\n",
    "  @length.setter\n",
    "  def length(self,length):\n",
    "    if length>0:\n",
    "      self.__length=length\n",
    "    else:\n",
    "      raise ValueError(\"value should be greater than zero\")\n",
    "  @property\n",
    "  def width(self):\n",
    "    return self.__width\n",
    "  @width.setter\n",
    "  def width(self,width):\n",
    "    if width>0:\n",
    "      self.__width=width\n",
    "    else:\n",
    "      raise ValueError(\"value should be greater than zero\")\n",
    "rect1=Rectangle(50,60)\n",
    "rect2=Rectangle(50,90)\n",
    "rect2.width\n"
   ]
  },
  {
   "cell_type": "code",
   "execution_count": 38,
   "id": "ffd05782",
   "metadata": {},
   "outputs": [
    {
     "name": "stdout",
     "output_type": "stream",
     "text": [
      "('The area is:', 78.54)\n",
      "('The perimeter is:', 31.42)\n"
     ]
    }
   ],
   "source": [
    "#Create an abstract base class named `Shape` with an abstract method `area`.\n",
    "# Create derived classes `Circle` and `Square` that implement the `area` method.\n",
    "# Create objects of the derived classes and call the `area` method.\n",
    "from abc import ABC,abstractmethod\n",
    "from math import pi\n",
    "\n",
    "class Shape(ABC):\n",
    "    @abstractmethod\n",
    "    def area(self):\n",
    "        pass\n",
    "    @abstractmethod\n",
    "    def perimeter(self):\n",
    "        pass\n",
    "class Circle(Shape):\n",
    "    def __init__(self,radius):\n",
    "        self.radius=radius\n",
    "    def area(self):\n",
    "        return \"The area is:\", round(pi*self.radius**2,2)\n",
    "    def perimeter(self):\n",
    "        return \"The perimeter is:\", round(2*pi*self.radius,2)\n",
    "class Square(Shape):\n",
    "    def __init__(self,side):\n",
    "        self.side=side\n",
    "    def area(self):\n",
    "        return \"The area is: \", self.side*self.side\n",
    "    def perimeter(self):\n",
    "        return \"The perimeter is:\", 4*self.side\n",
    "circle1= Circle(5)\n",
    "print(circle1.area())    \n",
    "print(circle1.perimeter())  "
   ]
  },
  {
   "cell_type": "code",
   "execution_count": 57,
   "id": "ffd3d5c1",
   "metadata": {},
   "outputs": [
    {
     "name": "stdout",
     "output_type": "stream",
     "text": [
      "the father of rakesh is mourya\n"
     ]
    }
   ],
   "source": [
    "#Create a class named `Vector` with attributes `x` and `y`. \n",
    "# Overload the `+` operator to add two `Vector` objects. \n",
    "# Create objects of the class and test the operator overloading.\n",
    "class Vector:\n",
    "  def __init__(self,x):\n",
    "    self.x=x\n",
    "  def __add__(self,other):\n",
    "    return f\"the father of {self.x} is {other.x}\"\n",
    "  \n",
    "  def __str__(self):\n",
    "    return \"this finds father son duo\"\n",
    "pair1=Vector(\"rakesh\")\n",
    "pair2=Vector(\"mourya\")\n",
    "print(pair1+pair2)\n"
   ]
  },
  {
   "cell_type": "code",
   "execution_count": null,
   "id": "5288c976",
   "metadata": {},
   "outputs": [],
   "source": [
    "#Create a custom exception named `InsufficientBalanceError`. \n",
    "# In the `BankAccount` class, raise this exception when a withdrawal amount is greater than the balance.\n",
    "#  Handle the exception and print an appropriate message.\n",
    "class BankAccount:\n",
    "  def __init__(self,account_number,balance):\n",
    "      self.__account_number=account_number\n",
    "      self.__balance=balance\n",
    "  def deposit(self,amount_deposit):\n",
    "      if amount_deposit <=0:\n",
    "         print(\"the deposit should be positive\")\n",
    "      else:\n",
    "         self.__balance+=amount_deposit\n",
    "         print(\"the deposited amount is\",amount_deposit)\n",
    "  def withdraw(self,amount_withdraw):\n",
    "      if self.__balance <0:\n",
    "         print(\"you cant withdraw\")\n",
    "      elif amount_withdraw > self.__balance:\n",
    "         print(\"amount insufficient to withdraw\")\n",
    "      else:\n",
    "         self.__balance -=amount_withdraw\n",
    "         print(\"the withdraw amount is \",amount_withdraw)\n",
    "  def balance(self):\n",
    "    print(\"the remaining balance is : \",self.__balance)\n",
    "account_1=BankAccount(5102736782762,2000)\n",
    "account_1.deposit(2000)\n",
    "account_1.withdraw(4500)\n",
    "account_1.balance()"
   ]
  },
  {
   "cell_type": "code",
   "execution_count": 73,
   "id": "2c8023e1",
   "metadata": {},
   "outputs": [
    {
     "name": "stdout",
     "output_type": "stream",
     "text": [
      "file not found\n",
      "No content to read.\n"
     ]
    }
   ],
   "source": [
    "#Create a class named `FileManager` that implements the context manager protocol to open and close a file. \n",
    "# Use this class to read the contents of a file.\n",
    "class FileManager:\n",
    "  def __init__(self,filename,mode):\n",
    "    self.filename=filename\n",
    "    self.mode=mode\n",
    "    self.file=None\n",
    "  def __enter__(self):\n",
    "    try:\n",
    "      self.file=open(self.filename,self.mode)\n",
    "      return self.file\n",
    "    except FileNotFoundError:\n",
    "      print(\"file not found\")\n",
    "      return None\n",
    "  def __exit__(self,exc_type,exc_value,traceback):\n",
    "    if self.file:\n",
    "      self.file.close()\n",
    "with FileManager('rampage.txt','r') as file:\n",
    "    if file:  # Ensure the file was successfully opened\n",
    "      content = file.read()\n",
    "      print(content)\n",
    "    else:\n",
    "      print(\"No content to read.\")\n"
   ]
  },
  {
   "cell_type": "code",
   "execution_count": 84,
   "id": "8e100881",
   "metadata": {},
   "outputs": [
    {
     "name": "stdout",
     "output_type": "stream",
     "text": [
      "4.0\n"
     ]
    }
   ],
   "source": [
    "#Create a class named `Calculator` with methods to add, subtract, multiply, and divide.\n",
    "# Each method should return the object itself to allow method chaining. \n",
    "# Create an object and chain multiple method calls.\n",
    "class Calculator:\n",
    "  def __init__(self,amount=0):\n",
    "    self.amount=amount\n",
    "  def add(self,value):\n",
    "    self.amount+= value\n",
    "    return self\n",
    "  def sub(self,value):\n",
    "    self.amount-= value\n",
    "    return self\n",
    "  def mul(self,value):\n",
    "    self.amount*= value\n",
    "    return self\n",
    "  def divide(self,value):\n",
    "    if value!=0:\n",
    "      self.amount/=value\n",
    "    else:\n",
    "      print(\"cannot enter zero\")\n",
    "    return self\n",
    "calc=Calculator()\n",
    "calc.add(10).sub(5).mul(8).divide(10)\n",
    "print(calc.amount)\n"
   ]
  }
 ],
 "metadata": {
  "kernelspec": {
   "display_name": "Python 3",
   "language": "python",
   "name": "python3"
  },
  "language_info": {
   "codemirror_mode": {
    "name": "ipython",
    "version": 3
   },
   "file_extension": ".py",
   "mimetype": "text/x-python",
   "name": "python",
   "nbconvert_exporter": "python",
   "pygments_lexer": "ipython3",
   "version": "3.13.1"
  }
 },
 "nbformat": 4,
 "nbformat_minor": 5
}
