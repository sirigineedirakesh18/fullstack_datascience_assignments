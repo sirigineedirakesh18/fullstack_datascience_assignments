{
 "cells": [
  {
   "cell_type": "markdown",
   "metadata": {},
   "source": [
    "# Module: Inheritance Assignments\n",
    "## Lesson: Single and Multiple Inheritance\n",
    "### Assignment 1: Single Inheritance Basic\n",
    "\n",
    "Create a base class named `Animal` with attributes `name` and `species`. Create a derived class named `Dog` that inherits from `Animal` and adds an attribute `breed`. Create an object of the `Dog` class and print its attributes.\n",
    "\n",
    "### Assignment 2: Method Overriding in Single Inheritance\n",
    "\n",
    "In the `Dog` class, override the `__str__` method to return a string representation of the object. Create an object of the class and print it.\n",
    "\n",
    "### Assignment 3: Single Inheritance with Additional Methods\n",
    "\n",
    "In the `Dog` class, add a method named `bark` that prints a barking sound. Create an object of the class and call the method.\n",
    "\n",
    "### Assignment 4: Multiple Inheritance Basic\n",
    "\n",
    "Create a base class named `Walker` with a method `walk` that prints a walking message. Create another base class named `Runner` with a method `run` that prints a running message. Create a derived class named `Athlete` that inherits from both `Walker` and `Runner`. Create an object of the `Athlete` class and call both methods.\n",
    "\n",
    "### Assignment 5: Method Resolution Order (MRO) in Multiple Inheritance\n",
    "\n",
    "In the `Athlete` class, override the `walk` method to print a different message. Create an object of the class and call the `walk` method. Use the `super()` function to call the `walk` method of the `Walker` class.\n",
    "\n",
    "### Assignment 6: Multiple Inheritance with Additional Attributes\n",
    "\n",
    "In the `Athlete` class, add an attribute `training_hours` and a method `train` that prints the training hours. Create an object of the class and call the method.\n",
    "\n",
    "### Assignment 7: Diamond Problem in Multiple Inheritance\n",
    "\n",
    "Create a class named `A` with a method `show` that prints a message. Create two derived classes `B` and `C` that inherit from `A` and override the `show` method. Create a class `D` that inherits from both `B` and `C`. Create an object of the `D` class and call the `show` method. Observe the method resolution order.\n",
    "\n",
    "### Assignment 8: Using `super()` in Single Inheritance\n",
    "\n",
    "Create a base class named `Shape` with an attribute `color`. Create a derived class named `Circle` that inherits from `Shape` and adds an attribute `radius`. Use the `super()` function to initialize the attributes. Create an object of the `Circle` class and print its attributes.\n",
    "\n",
    "### Assignment 9: Using `super()` in Multiple Inheritance\n",
    "\n",
    "Create a class named `Person` with an attribute `name`. Create a class named `Employee` with an attribute `employee_id`. Create a derived class `Manager` that inherits from both `Person` and `Employee`. Use the `super()` function to initialize the attributes. Create an object of the `Manager` class and print its attributes.\n",
    "\n",
    "### Assignment 10: Method Overriding and `super()`\n",
    "\n",
    "Create a class named `Vehicle` with a method `start` that prints a starting message. Create a derived class `Car` that overrides the `start` method to print a different message. Use the `super()` function to call the `start` method of the `Vehicle` class. Create an object of the `Car` class and call the `start` method.\n",
    "\n",
    "### Assignment 11: Multiple Inheritance with Different Methods\n",
    "\n",
    "Create a class named `Flyer` with a method `fly` that prints a flying message. Create a class named `Swimmer` with a method `swim` that prints a swimming message. Create a derived class `Superhero` that inherits from both `Flyer` and `Swimmer`. Create an object of the `Superhero` class and call both methods.\n",
    "\n",
    "### Assignment 12: Complex Multiple Inheritance\n",
    "\n",
    "Create a class named `Base1` with an attribute `a`. Create a class named `Base2` with an attribute `b`. Create a class named `Derived` that inherits from both `Base1` and `Base2` and adds an attribute `c`. Initialize all attributes using the `super()` function. Create an object of the `Derived` class and print its attributes.\n",
    "\n",
    "### Assignment 13: Checking Instance Types with Inheritance\n",
    "\n",
    "Create a base class named `Animal` and a derived class named `Cat`. Create objects of both classes and use the `isinstance` function to check the instance types.\n",
    "\n",
    "### Assignment 14: Polymorphism with Inheritance\n",
    "\n",
    "Create a base class named `Bird` with a method `speak`. Create two derived classes `Parrot` and `Penguin` that override the `speak` method. Create a list of `Bird` objects and call the `speak` method on each object to demonstrate polymorphism.\n",
    "\n",
    "### Assignment 15: Combining Single and Multiple Inheritance\n",
    "\n",
    "Create a base class named `Device` with an attribute `brand`. Create a derived class `Phone` that inherits from `Device` and adds an attribute `model`. Create another base class `Camera` with an attribute `resolution`. Create a derived class `Smartphone` that inherits from both `Phone` and `Camera`. Create an object of the `Smartphone` class and print its attributes."
   ]
  },
  {
   "cell_type": "code",
   "execution_count": 2,
   "metadata": {},
   "outputs": [
    {
     "data": {
      "text/plain": [
       "'Pitbull'"
      ]
     },
     "execution_count": 2,
     "metadata": {},
     "output_type": "execute_result"
    }
   ],
   "source": [
    "#Create a base class named `Animal` with attributes `name` and `species`.\n",
    "# Create a derived class named `Dog` that inherits from `Animal` and adds an attribute `breed`.\n",
    "# Create an object of the `Dog` class and print its attributes.\n",
    "\n",
    "class Animal:\n",
    "    def __init__(self, name, species):\n",
    "        self.name = name\n",
    "        self.species = species\n",
    "class Dog(Animal):\n",
    "    def __init__(self, name, species, breed):\n",
    "        super().__init__(name, species)\n",
    "        self.breed = breed\n",
    "pitbull=Dog(\"Tommy\", \"Dog\", \"Pitbull\")\n",
    "pitbull.breed"
   ]
  },
  {
   "cell_type": "code",
   "execution_count": 6,
   "id": "3d0ae421",
   "metadata": {},
   "outputs": [
    {
     "name": "stdout",
     "output_type": "stream",
     "text": [
      "Tommy is a Dog and is a Pitbull\n"
     ]
    }
   ],
   "source": [
    "#In the `Dog` class, override the `__str__` method to return a string representation of the object. \n",
    "# Create an object of the class and print it.\n",
    "class Animal:\n",
    "    def __init__(self, name, species):\n",
    "        self.name = name\n",
    "        self.species = species\n",
    "class Dog(Animal):\n",
    "    def __init__(self, name, species, breed):\n",
    "        super().__init__(name, species)\n",
    "        self.breed = breed\n",
    "    def __str__(self):\n",
    "        return f\"{self.name} is a {self.species} and is a {self.breed}\"\n",
    "pitbull=Dog(\"Tommy\", \"Dog\", \"Pitbull\")\n",
    "print(pitbull)"
   ]
  },
  {
   "cell_type": "code",
   "execution_count": 8,
   "id": "508cb094",
   "metadata": {},
   "outputs": [
    {
     "name": "stdout",
     "output_type": "stream",
     "text": [
      "Barking sound\n"
     ]
    }
   ],
   "source": [
    "#In the `Dog` class, add a method named `bark` that prints a barking sound. \n",
    "# Create an object of the class and call the method.\n",
    "class Animal:\n",
    "    def __init__(self, name, species):\n",
    "        self.name = name\n",
    "        self.species = species\n",
    "class Dog(Animal):\n",
    "    def __init__(self, name, species, breed):\n",
    "        super().__init__(name, species)\n",
    "        self.breed = breed\n",
    "    def bark(self):\n",
    "        print(\"Barking sound\")\n",
    "    def __str__(self):\n",
    "        return f\"{self.name} is a {self.species} and is a {self.breed}\"\n",
    "pitbull=Dog(\"Tommy\", \"Dog\", \"Pitbull\")\n",
    "pitbull.bark()"
   ]
  },
  {
   "cell_type": "code",
   "execution_count": 11,
   "id": "020743d5",
   "metadata": {},
   "outputs": [
    {
     "name": "stdout",
     "output_type": "stream",
     "text": [
      "Walking message\n",
      "Running message\n"
     ]
    }
   ],
   "source": [
    "#Create a base class named `Walker` with a method `walk` that prints a walking message.\n",
    "#  Create another base class named `Runner` with a method `run` that prints a running message.\n",
    "#  Create a derived class named `Athlete` that inherits from both `Walker` and `Runner`. \n",
    "# Create an object of the `Athlete` class and call both methods.\n",
    "class Walker:\n",
    "    def walk(self):\n",
    "        print(\"Walking message\")\n",
    "class Runner:\n",
    "    def run(self):\n",
    "        print(\"Running message\")\n",
    "class Athlete(Walker, Runner):\n",
    "    pass\n",
    "athlete=Athlete()\n",
    "athlete.walk()\n",
    "athlete.run()"
   ]
  },
  {
   "cell_type": "code",
   "execution_count": 12,
   "id": "58a19b6f",
   "metadata": {},
   "outputs": [
    {
     "name": "stdout",
     "output_type": "stream",
     "text": [
      "Different message\n",
      "Walking message\n",
      "None\n"
     ]
    }
   ],
   "source": [
    "#In the `Athlete` class, \n",
    "# override the `walk` method to print a different message.\n",
    "#  Create an object of the class and call the `walk` method. \n",
    "# Use the `super()` function to call the `walk` method of the `Walker` class.\n",
    "class Walker:\n",
    "    def walk(self):\n",
    "        print(\"Walking message\")\n",
    "class Runner:\n",
    "    def run(self):\n",
    "        print(\"Running message\")\n",
    "class Athlete(Walker, Runner):\n",
    "    def walk(self):\n",
    "        print(\"Different message\")\n",
    "        super().walk()\n",
    "athlete=Athlete()\n",
    "print(athlete.walk())\n"
   ]
  },
  {
   "cell_type": "code",
   "execution_count": 15,
   "id": "3a6c9e46",
   "metadata": {},
   "outputs": [
    {
     "name": "stdout",
     "output_type": "stream",
     "text": [
      "Training hours: 5\n",
      "Walking message\n"
     ]
    }
   ],
   "source": [
    "#In the `Athlete` class, add an attribute `training_hours` \n",
    "# and a method `train` that prints the training hours. \n",
    "# Create an object of the class and call the method.\n",
    "class Athlete(Walker,Runner):\n",
    "    def __init__(self, training_hours):\n",
    "        self.training_hours = training_hours\n",
    "    def train(self):\n",
    "        print(f\"Training hours: {self.training_hours}\")    \n",
    "athlete=Athlete(5)\n",
    "athlete.train()\n",
    "athlete.walk()"
   ]
  },
  {
   "cell_type": "code",
   "execution_count": 22,
   "id": "a13365c8",
   "metadata": {},
   "outputs": [
    {
     "name": "stdout",
     "output_type": "stream",
     "text": [
      "overridden B SHOW\n"
     ]
    }
   ],
   "source": [
    "#Create a class named `A` with a method `show` that prints a message.\n",
    "#  Create two derived classes `B` and `C` that inherit from `A` and override the `show` method.\n",
    "#  Create a class `D` that inherits from both `B` and `C`.\n",
    "#  Create an object of the `D` class and call the `show` method. \n",
    "# Observe the method resolution order.\n",
    "class A:\n",
    "    def show(self):\n",
    "        print(\"Message A SHOW\")\n",
    "class B(A):\n",
    "    def show(self):\n",
    "        print(\"overridden B SHOW\")\n",
    "class C(A):\n",
    "    def show(self):\n",
    "        print(\"overridden C SHOW\")\n",
    "class D(B,C):\n",
    "    def hema(self):\n",
    "        print(\"mother name\")\n",
    "MRO=D()\n",
    "MRO.show()\n"
   ]
  },
  {
   "cell_type": "code",
   "execution_count": 25,
   "id": "4b886ed8",
   "metadata": {},
   "outputs": [
    {
     "name": "stdout",
     "output_type": "stream",
     "text": [
      "Red\n",
      "5\n"
     ]
    }
   ],
   "source": [
    "#Create a base class named `Shape` with an attribute `color`. \n",
    "# Create a derived class named `Circle` that inherits from `Shape` and adds an attribute `radius`.\n",
    "#  Use the `super()` function to initialize the attributes. \n",
    "# Create an object of the `Circle` class and print its attributes.\n",
    "\n",
    "class Shape:\n",
    "  def __init__(self, color):\n",
    "    self.color=color\n",
    "class Circle(Shape):\n",
    "  def __init__(self, color, radius):\n",
    "    super().__init__(color)\n",
    "    self.radius=radius\n",
    "circle=Circle(\"Red\", 5)\n",
    "print(circle.color)\n",
    "print(circle.radius)"
   ]
  },
  {
   "cell_type": "code",
   "execution_count": 35,
   "id": "036e69c3",
   "metadata": {},
   "outputs": [
    {
     "name": "stdout",
     "output_type": "stream",
     "text": [
      "Rakesh\n"
     ]
    },
    {
     "data": {
      "text/plain": [
       "19521837"
      ]
     },
     "execution_count": 35,
     "metadata": {},
     "output_type": "execute_result"
    }
   ],
   "source": [
    "#Create a class named `Person` with an attribute `name`.\n",
    "#  Create a class named `Employee` with an attribute `employee_id`. \n",
    "# Create a derived class `Manager` that inherits from both `Person` and `Employee`.\n",
    "#  Use the `super()` function to initialize the attributes.\n",
    "# Create an object of the `Manager` class and print its attributes.\n",
    "class Person:\n",
    "  def __init__(self,name):\n",
    "    self.name=name\n",
    "class Employee:\n",
    "  def __init__(self,employee_id):\n",
    "    self.employee_id=employee_id\n",
    "class Manager(Person,Employee):\n",
    "  def __init__(self,name,employee_id):\n",
    "    super().__init__(name)\n",
    "    Employee.__init__(self,employee_id)\n",
    "manager= Manager('Rakesh',19521837)\n",
    "print(manager.name)\n",
    "manager.employee_id\n"
   ]
  },
  {
   "cell_type": "code",
   "execution_count": 39,
   "id": "9ab44a17",
   "metadata": {},
   "outputs": [
    {
     "name": "stdout",
     "output_type": "stream",
     "text": [
      "overridden message of start\n",
      "starting message\n"
     ]
    }
   ],
   "source": [
    "#Create a class named `Vehicle` with a method `start` that prints a starting message.\n",
    "#  Create a derived class `Car` that overrides the `start` method to print a different message.\n",
    "#  Use the `super()` function to call the `start` method of the `Vehicle` class.\n",
    "# Create an object of the `Car` class and call the `start` method.\n",
    "class Vehicle:\n",
    "  def start(self):\n",
    "    print(\"starting message\")\n",
    "class Car(Vehicle):\n",
    "  def start(self):\n",
    "    print(\"overridden message of start\")\n",
    "    super().start()\n",
    "car=Car()\n",
    "car.start()"
   ]
  },
  {
   "cell_type": "code",
   "execution_count": 42,
   "id": "2d0d0978",
   "metadata": {},
   "outputs": [
    {
     "name": "stdout",
     "output_type": "stream",
     "text": [
      "A flying Message\n",
      "A swimming message\n"
     ]
    }
   ],
   "source": [
    "#Create a class named `Flyer` with a method `fly` that prints a flying message.\n",
    "# Create a class named `Swimmer` with a method `swim` that prints a swimming message.\n",
    "#  Create a derived class `Superhero` that inherits from both `Flyer` and `Swimmer`.\n",
    "#  Create an object of the `Superhero` class and call both methods.\n",
    "\n",
    "class Flyer:\n",
    "  def fly(self):\n",
    "    print(\"A flying Message\")\n",
    "class Swimmer:\n",
    "  def swim(self):\n",
    "    print(\"A swimming message\")\n",
    "class Superhero(Flyer,Swimmer):\n",
    "  def powers(self):\n",
    "      super().fly()\n",
    "      super().swim()\n",
    "superhero= Superhero()\n",
    "superhero.powers()\n"
   ]
  },
  {
   "cell_type": "code",
   "execution_count": 43,
   "id": "c391a6cf",
   "metadata": {},
   "outputs": [
    {
     "name": "stdout",
     "output_type": "stream",
     "text": [
      "5\n"
     ]
    }
   ],
   "source": [
    "#Create a class named `Base1` with an attribute `a`. \n",
    "# Create a class named `Base2` with an attribute `b`.\n",
    "#  Create a class named `Derived` that inherits from both `Base1` and `Base2` and adds an attribute `c`.\n",
    "#  Initialize all attributes using the `super()` function. \n",
    "# Create an object of the `Derived` class and print its attributes.\n",
    "\n",
    "class Base1:\n",
    "  def __init__(self,a):\n",
    "    self.a=a\n",
    "class Base2:\n",
    "  def __init__(self,b):\n",
    "    self.b=b\n",
    "class Derived(Base1,Base2):\n",
    "  def __init__(self,a,b,c):\n",
    "    super().__init__(a)\n",
    "    Base2.__init__(self,b)\n",
    "    self.c=c\n",
    "derived=Derived(5,10,15)\n",
    "print(derived.a)"
   ]
  },
  {
   "cell_type": "code",
   "execution_count": 45,
   "id": "0f7c32c3",
   "metadata": {},
   "outputs": [
    {
     "name": "stdout",
     "output_type": "stream",
     "text": [
      "True\n",
      "True\n",
      "True\n"
     ]
    }
   ],
   "source": [
    "#Create a base class named `Animal` and a derived class named `Cat`. \n",
    "# Create objects of both classes and use the `isinstance` function to check the instance types.\n",
    "class Animal:\n",
    "  pass\n",
    "class Cat(Animal):\n",
    "  pass\n",
    "animal=Animal()\n",
    "cat=Cat()\n",
    "print(isinstance(animal,Animal))\n",
    "print(isinstance(cat,Cat))\n",
    "print(issubclass(Cat,Animal))\n"
   ]
  },
  {
   "cell_type": "code",
   "execution_count": 46,
   "id": "5d2074cc",
   "metadata": {},
   "outputs": [
    {
     "name": "stdout",
     "output_type": "stream",
     "text": [
      "Parrot speaking\n",
      "Penguin speaking\n"
     ]
    }
   ],
   "source": [
    "#Create a base class named `Bird` with a method `speak`. \n",
    "#Create two derived classes `Parrot` and `Penguin` that override the `speak` method.\n",
    "#Create a list of `Bird` objects and call the `speak` method on each object to demonstrate polymorphism.\n",
    "class Bird:\n",
    "  def speak(self):\n",
    "    pass\n",
    "class Parrot(Bird):\n",
    "  def speak(self):\n",
    "    print(\"Parrot speaking\")\n",
    "class Penguin(Bird):\n",
    "  def speak(self):\n",
    "    print(\"Penguin speaking\")\n",
    "birds=[Parrot(),Penguin()]\n",
    "for bird in birds:\n",
    "  bird.speak()"
   ]
  },
  {
   "cell_type": "code",
   "execution_count": 48,
   "id": "8b72f823",
   "metadata": {},
   "outputs": [
    {
     "name": "stdout",
     "output_type": "stream",
     "text": [
      "Samsung\n",
      "Galaxy S10\n",
      "16 MP\n"
     ]
    }
   ],
   "source": [
    "#Create a base class named `Device` with an attribute `brand`.\n",
    "#  Create a derived class `Phone` that inherits from `Device` and adds an attribute `model`.\n",
    "#  Create another base class `Camera` with an attribute `resolution`. \n",
    "# Create a derived class `Smartphone` that inherits from both `Phone` and `Camera`.\n",
    "#  Create an object of the `Smartphone` class and print its attributes.\n",
    "class Device:\n",
    "  def __init__(self,brand):\n",
    "    self.brand=brand\n",
    "class Phone(Device):\n",
    "  def __init__(self,brand,model):\n",
    "    super().__init__(brand)\n",
    "    self.model=model\n",
    "class Camera:\n",
    "  def __init__(self,resolution):\n",
    "    self.resolution=resolution\n",
    "class Smartphone(Phone,Camera):\n",
    "  def __init__(self,brand,model,resolution):\n",
    "    Phone.__init__(self,brand,model)\n",
    "    Camera.__init__(self,resolution)\n",
    "smartphone=Smartphone(\"Samsung\",\"Galaxy S10\",\"16 MP\")\n",
    "print(smartphone.brand)\n",
    "print(smartphone.model)\n",
    "print(smartphone.resolution)\n"
   ]
  }
 ],
 "metadata": {
  "kernelspec": {
   "display_name": "Python 3",
   "language": "python",
   "name": "python3"
  },
  "language_info": {
   "codemirror_mode": {
    "name": "ipython",
    "version": 3
   },
   "file_extension": ".py",
   "mimetype": "text/x-python",
   "name": "python",
   "nbconvert_exporter": "python",
   "pygments_lexer": "ipython3",
   "version": "3.13.1"
  }
 },
 "nbformat": 4,
 "nbformat_minor": 5
}
