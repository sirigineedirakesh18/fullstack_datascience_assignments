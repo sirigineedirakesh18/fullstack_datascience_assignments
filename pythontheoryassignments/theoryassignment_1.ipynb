{
 "cells": [
  {
   "cell_type": "raw",
   "id": "2356424e",
   "metadata": {},
   "source": [
    "1. In the below elements which of them are values or an expression? eg:- values can be\n",
    "integer or string and expressions will be mathematical operators.\n",
    "ans:\n",
    "*       - expression\n",
    "'hello'- value\n",
    "-87.8-value\n",
    "-  - expression\n",
    "/  - expression\n",
    "+  - expression\n",
    "6- value "
   ]
  },
  {
   "cell_type": "raw",
   "id": "54ffe784",
   "metadata": {},
   "source": [
    "2. What is the difference between string and variable?\n",
    "ans:\n",
    "a string is a datatype\n",
    "a variable can be any datatype"
   ]
  },
  {
   "cell_type": "raw",
   "id": "48e726b5",
   "metadata": {},
   "source": [
    "3. Describe three different data types.\n",
    "ans:\n",
    "    int- it storess the integer numbers\n",
    "    string- it stores the words\n",
    "    float-it can store bdecimal point numbers"
   ]
  },
  {
   "cell_type": "raw",
   "id": "d9af181b",
   "metadata": {},
   "source": [
    "4. What is an expression made up of? What do all expressions do?\n",
    "ans:\n",
    "    an expression is madeup of operators and datatypes.expression will give some results after calculating."
   ]
  },
  {
   "cell_type": "raw",
   "id": "cf16c2e7",
   "metadata": {},
   "source": [
    "5. This assignment statements, like spam = 10. What is the difference between an\n",
    "expression and a statement?\n",
    "ans: an expression can be Assigned to the variable. But when it comes to statement it has to be declared \n",
    "    the complete line in the code is known as statement"
   ]
  },
  {
   "cell_type": "raw",
   "id": "da975c10",
   "metadata": {},
   "source": [
    "6. After running the following code, what does the variable bacon contain?\n",
    "bacon = 22\n",
    "bacon + 1\n",
    "\n",
    "ans :22"
   ]
  },
  {
   "cell_type": "raw",
   "id": "b6667097",
   "metadata": {},
   "source": [
    "7. What should the values of the following two terms be?\n",
    "'spam' + 'spamspam'\n",
    "'spam'* 3\n",
    "ans:\n",
    "    'spamspamspam'\n",
    "    'spamspamspam'"
   ]
  },
  {
   "cell_type": "raw",
   "id": "898b7ff3",
   "metadata": {},
   "source": [
    "8. Why is eggs a valid variable name while 100 is invalid?\n",
    "\n",
    "ans: Variable name can be an alphabet or word but it shouldn't be a number or a decimal"
   ]
  },
  {
   "cell_type": "raw",
   "id": "f549ed23",
   "metadata": {},
   "source": [
    "9. What three functions can be used to get the integer, floating-point number, or string\n",
    "version of a value?\n",
    "\n",
    "ans : The three versions that can be used to get the integer floating point number or\n",
    "    string version of a value is int(),float(),str()"
   ]
  },
  {
   "cell_type": "raw",
   "id": "0a4a7f01",
   "metadata": {},
   "source": [
    "10. Why does this expression cause an error? How can you fix it?\n",
    "'I have eaten' +99+ 'Burritos'\n",
    "\n",
    "ans: You cannot add int or float Data types to a string you can add only a string data type to a string"
   ]
  },
  {
   "cell_type": "code",
   "execution_count": null,
   "id": "3e366738",
   "metadata": {},
   "outputs": [],
   "source": []
  }
 ],
 "metadata": {
  "kernelspec": {
   "display_name": "Python 3 (ipykernel)",
   "language": "python",
   "name": "python3"
  },
  "language_info": {
   "codemirror_mode": {
    "name": "ipython",
    "version": 3
   },
   "file_extension": ".py",
   "mimetype": "text/x-python",
   "name": "python",
   "nbconvert_exporter": "python",
   "pygments_lexer": "ipython3",
   "version": "3.11.5"
  }
 },
 "nbformat": 4,
 "nbformat_minor": 5
}
