{
 "cells": [
  {
   "cell_type": "markdown",
   "id": "49c04507",
   "metadata": {},
   "source": [
    "## Assignment_2"
   ]
  },
  {
   "cell_type": "raw",
   "id": "4e6fc921",
   "metadata": {},
   "source": [
    "1.What are the two values of the Boolean data type? How do you write them?\n",
    "Ans: There are two types of Boolean data type type one is true type two is false"
   ]
  },
  {
   "cell_type": "raw",
   "id": "3f8e7289",
   "metadata": {},
   "source": [
    "2.What are the three different types of Boolean operators?\n",
    "The three different types of Boolean operators are \n",
    "1. and (&&)\n",
    "2.or(||)\n",
    "not(!)"
   ]
  },
  {
   "cell_type": "raw",
   "id": "f349ee18",
   "metadata": {},
   "source": [
    "3.Make a list of each Boolean operator's truth tables (i.e. every possible combination of Boolean\n",
    "values for the operator and what it evaluate ).\n",
    "and\n",
    "x y  x and y\n",
    "t t     t\n",
    "t f     f\n",
    "f f     f\n",
    "f t     f\n",
    "\n",
    "x y  x or y\n",
    "t t     t\n",
    "t f     t\n",
    "f f     f\n",
    "f t     t\n",
    "\n",
    "!t=f\n",
    "!f=t"
   ]
  },
  {
   "cell_type": "raw",
   "id": "5103bf83",
   "metadata": {},
   "source": [
    "4. What are the values of the following expressions?\n",
    "\n",
    "(5 > 4) and (3 == 5)   false\n",
    "not (5 > 4)   false\n",
    "(5 > 4) or (3 == 5)   true\n",
    "not ((5 > 4) or (3 == 5))   false\n",
    "(True and True) and (True == False)   false\n",
    "(not False) or (not True)   true \n"
   ]
  },
  {
   "cell_type": "raw",
   "id": "1abe4b32",
   "metadata": {},
   "source": [
    "5. What are the six comparison operators?\n",
    ">\n",
    "<\n",
    "==\n",
    ">=\n",
    "<=\n",
    "!=\n"
   ]
  },
  {
   "cell_type": "raw",
   "id": "ef7d99ee",
   "metadata": {},
   "source": [
    "6. How do you tell the difference between the equal to and assignment operators?Describe a\n",
    "condition and when you would use one.\n",
    "ans == (equal to)\n",
    "    = (assignment operator)\n",
    " Equal to will validate whether two variables mentioned are equal or whether two operands that are mentioned Are same or not same.\n",
    " Assignment operator will assign the value that we mentioned to the variable.\n",
    " Equal to will return true or false\n",
    " "
   ]
  },
  {
   "cell_type": "raw",
   "id": "9aaaae69",
   "metadata": {},
   "source": [
    "7. Identify the three blocks in this code:\n",
    "spam = 0\n",
    "#block1\n",
    "if spam == 10:\n",
    "    print('eggs')\n",
    "#block2\n",
    "if spam > 5:\n",
    "    print('bacon')\n",
    "#block 3\n",
    "else:\n",
    "    print('ham')\n",
    "    print('spam')\n",
    "print('spam')"
   ]
  },
  {
   "cell_type": "code",
   "execution_count": 10,
   "id": "c443a3c0",
   "metadata": {},
   "outputs": [
    {
     "name": "stdout",
     "output_type": "stream",
     "text": [
      "enter value of spam:99\n",
      "Greetings!\n"
     ]
    }
   ],
   "source": [
    "\"\"\"8. Write code that prints Hello if 1 is stored in spam, prints Howdy if 2 is stored in spam, and prints\n",
    "Greetings! if anything else is stored in spam.\"\"\"\n",
    "\n",
    "spam=int(input(\"enter value of spam:\"))\n",
    "if spam==1:\n",
    "    print(\"Hello\")\n",
    "elif spam==2:\n",
    "    print(\"Howdy\")\n",
    "else:\n",
    "    print(\"Greetings!\")"
   ]
  },
  {
   "cell_type": "raw",
   "id": "e5687e65",
   "metadata": {},
   "source": [
    "#9.If your programme is stuck in an endless loop, what keys you’ll press?\n",
    "If our programme is stuck in an endless loop, we should press ctrl+c"
   ]
  },
  {
   "cell_type": "raw",
   "id": "2180fe8f",
   "metadata": {},
   "source": [
    "10. How can you tell the difference between break and continue?\n",
    "\n",
    "ans: break will move you out of theloop\n",
    "    continue will take you to the next iteration in the loop"
   ]
  },
  {
   "cell_type": "raw",
   "id": "7a0445e6",
   "metadata": {},
   "source": [
    "11. In a for loop, what is the difference between range(10), range(0, 10), and range(0, 10, 1)?\n",
    "\n",
    "ans: all three prints the same"
   ]
  },
  {
   "cell_type": "code",
   "execution_count": 20,
   "id": "a30f082b",
   "metadata": {},
   "outputs": [
    {
     "name": "stdout",
     "output_type": "stream",
     "text": [
      "1 2 3 4 5 6 7 8 9 10 "
     ]
    }
   ],
   "source": [
    "\"\"\"#12.Write a short program that prints the numbers 1 to 10 using a for loop. Then write an equivalent\n",
    "program that prints the numbers 1 to 10 using a while loop\"\"\"\n",
    "\n",
    "for i in range(1,11):\n",
    "    print(i,end=\" \")\n"
   ]
  },
  {
   "cell_type": "code",
   "execution_count": 23,
   "id": "e72f06d5",
   "metadata": {},
   "outputs": [
    {
     "name": "stdout",
     "output_type": "stream",
     "text": [
      "1 2 3 4 5 6 7 8 9 10 "
     ]
    }
   ],
   "source": [
    "i=0\n",
    "while i<10:\n",
    "    i=i+1\n",
    "    print(i , end= \" \")"
   ]
  },
  {
   "cell_type": "raw",
   "id": "e77a5d3c",
   "metadata": {},
   "source": [
    "13. If you had a function named bacon() inside a module named spam, how would you call it after\n",
    "importing spam?\n",
    "\n",
    "the function will be called as spam.bacon()\n"
   ]
  },
  {
   "cell_type": "code",
   "execution_count": null,
   "id": "634bc271",
   "metadata": {},
   "outputs": [],
   "source": []
  }
 ],
 "metadata": {
  "kernelspec": {
   "display_name": "Python 3 (ipykernel)",
   "language": "python",
   "name": "python3"
  },
  "language_info": {
   "codemirror_mode": {
    "name": "ipython",
    "version": 3
   },
   "file_extension": ".py",
   "mimetype": "text/x-python",
   "name": "python",
   "nbconvert_exporter": "python",
   "pygments_lexer": "ipython3",
   "version": "3.11.5"
  }
 },
 "nbformat": 4,
 "nbformat_minor": 5
}
